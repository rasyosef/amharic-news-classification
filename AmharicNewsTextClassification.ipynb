{
  "cells": [
    {
      "cell_type": "markdown",
      "metadata": {
        "id": "0AUo6jZkiins"
      },
      "source": [
        "### Download Amharic News Dataset"
      ]
    },
    {
      "cell_type": "code",
      "execution_count": 1,
      "metadata": {
        "colab": {
          "base_uri": "https://localhost:8080/"
        },
        "id": "3P_tgoPqWlMC",
        "outputId": "88eaed5f-7177-45c7-c849-c2b26095331b"
      },
      "outputs": [
        {
          "output_type": "stream",
          "name": "stdout",
          "text": [
            "Cloning into 'An-Amharic-News-Text-classification-Dataset'...\n",
            "remote: Enumerating objects: 34, done.\u001b[K\n",
            "remote: Counting objects: 100% (4/4), done.\u001b[K\n",
            "remote: Compressing objects: 100% (4/4), done.\u001b[K\n",
            "remote: Total 34 (delta 0), reused 0 (delta 0), pack-reused 30\u001b[K\n",
            "Unpacking objects: 100% (34/34), 46.12 MiB | 13.92 MiB/s, done.\n"
          ]
        }
      ],
      "source": [
        "! git clone https://github.com/IsraelAbebe/An-Amharic-News-Text-classification-Dataset.git"
      ]
    },
    {
      "cell_type": "code",
      "execution_count": 2,
      "metadata": {
        "colab": {
          "base_uri": "https://localhost:8080/"
        },
        "id": "H7GEU0EUWthW",
        "outputId": "f9f75302-8a2c-48b6-d516-381d3c3872c8"
      },
      "outputs": [
        {
          "output_type": "stream",
          "name": "stdout",
          "text": [
            "Archive:  /content/An-Amharic-News-Text-classification-Dataset/data/Amharic News Dataset.zip\n",
            "  inflating: Amharic News Dataset.csv  \n"
          ]
        }
      ],
      "source": [
        "!unzip \"/content/An-Amharic-News-Text-classification-Dataset/data/Amharic News Dataset.zip\""
      ]
    },
    {
      "cell_type": "markdown",
      "metadata": {
        "id": "gYT1uf31iu_C"
      },
      "source": [
        "### Download Amharic word embeddings"
      ]
    },
    {
      "cell_type": "code",
      "execution_count": 3,
      "metadata": {
        "colab": {
          "base_uri": "https://localhost:8080/",
          "height": 104
        },
        "id": "Rkb09sxvek1t",
        "outputId": "ec095028-0604-4968-b566-2ca9b408d290"
      },
      "outputs": [
        {
          "output_type": "stream",
          "name": "stderr",
          "text": [
            "Downloading...\n",
            "From: https://drive.google.com/uc?id=1t-1eGKfBqTExQeJ22LrvLVdH_GuYMD5b&confirm=t\n",
            "To: /content/amharic_word2vec.vec\n",
            "100%|██████████| 873M/873M [00:13<00:00, 65.2MB/s]\n"
          ]
        },
        {
          "output_type": "execute_result",
          "data": {
            "text/plain": [
              "'amharic_word2vec.vec'"
            ],
            "application/vnd.google.colaboratory.intrinsic+json": {
              "type": "string"
            }
          },
          "metadata": {},
          "execution_count": 3
        }
      ],
      "source": [
        "import gdown\n",
        "url = \"https://drive.google.com/uc?id=1t-1eGKfBqTExQeJ22LrvLVdH_GuYMD5b&confirm=t\"\n",
        "output = \"amharic_word2vec.vec\"\n",
        "gdown.download(url, output, quiet=False)"
      ]
    },
    {
      "cell_type": "code",
      "execution_count": 4,
      "metadata": {
        "id": "cjJdtfZAZ2Nk"
      },
      "outputs": [],
      "source": [
        "embeddings = {}\n",
        "\n",
        "with open('amharic_word2vec.vec', 'r', encoding='utf-8') as vecfile:\n",
        "  for line in vecfile.readlines():\n",
        "    arr = line.split()\n",
        "    embeddings[arr[0]] = [float(x) for x in arr[1:]]\n"
      ]
    },
    {
      "cell_type": "markdown",
      "metadata": {
        "id": "nPzKxudRi6Pl"
      },
      "source": [
        "### Data Exploration"
      ]
    },
    {
      "cell_type": "code",
      "execution_count": 5,
      "metadata": {
        "colab": {
          "base_uri": "https://localhost:8080/"
        },
        "id": "jTn6-K1ZW8GW",
        "outputId": "7aa2066c-33ca-4fbf-8aa0-e43617fa4421"
      },
      "outputs": [
        {
          "output_type": "stream",
          "name": "stderr",
          "text": [
            "[nltk_data] Downloading package punkt to /root/nltk_data...\n",
            "[nltk_data]   Unzipping tokenizers/punkt.zip.\n"
          ]
        }
      ],
      "source": [
        "import pandas as pd\n",
        "import numpy as np\n",
        "import matplotlib.pyplot as plt\n",
        "import seaborn as sns\n",
        "import re\n",
        "import nltk\n",
        "nltk.download('punkt')\n",
        "from nltk.tokenize import word_tokenize\n"
      ]
    },
    {
      "cell_type": "code",
      "execution_count": 6,
      "metadata": {
        "colab": {
          "base_uri": "https://localhost:8080/",
          "height": 580
        },
        "id": "5QnJIzfHB8Wl",
        "outputId": "8c3b9960-ad7c-470d-b9f0-19380dd627af"
      },
      "outputs": [
        {
          "output_type": "execute_result",
          "data": {
            "text/plain": [
              "                                            headline category  \\\n",
              "0        የኦሊምፒክ ማጣሪያ ተሳታፊዎች የሚለዩበት ቻምፒዮና እየተካሄደ ይገኛል     ስፖርት   \n",
              "1                                         አዲስ ዘመን ድሮ     መዝናኛ   \n",
              "2                   የአረንጓዴ ጎርፍ በጎ አድራጎት አምባሳደሮች ተሰየሙ     ስፖርት   \n",
              "3              የሊጉ በቢዝነስ ሞዴል መመራት አበረታች ጅምር መሆኑ ተገለጸ     ስፖርት   \n",
              "4          የኦሊምፒክ ሥራ አስፈፃሚው እስከ ቶኪዮ ኦሊምፒክ ማግስት ይቀጥላል     ስፖርት   \n",
              "5  ‹‹ሃገራዊ ችግሮችን ለማረምና አብሮነትን ለማጠናከር ስፖርት ወሳኝ ነው››...     ስፖርት   \n",
              "6  በውድድር ወቅት በወረርሽኙ መከላከያ መመሪያዎች አተገባበር ላይ ስጋት እን...     ስፖርት   \n",
              "7                            ስፖርትን ከፖለቲካ የመለየት ፈተናዎች     ስፖርት   \n",
              "8                        የዓለም አትሌቲክስና 2020 የውድድር ዓመት     ስፖርት   \n",
              "9                                     ለራስ ሲባል ሌላውን …     መዝናኛ   \n",
              "\n",
              "                date views                                            article  \\\n",
              "0   January 14, 2021     2  ብርሃን ፈይሳየኢትዮጵያ ቦክስ ፌዴሬሽን በየዓመቱ የሚያዘጋጀው የክለቦች ቻ...   \n",
              "1  December 28, 2020     4   የአዲስ ዘመን ጋዜጣ ቀደምት ዘገባዎች በእጅጉ ተነባቢ ዛሬም ላገኛቸው በ...   \n",
              "2    January 6, 2021     6  ቦጋለ አበበየአዲስ አበባ ከተማ አስተዳደር ስፖርት ኮሚሽን ከኢትዮጵያ አረ...   \n",
              "3    January 6, 2021     5  ብርሃን ፈይሳአዲስ አበባ፡- የኢትዮጵያ ፕሪምየር ሊግ በሼር ካምፓኒ እንዲ...   \n",
              "4    January 6, 2021    12  ቦጋለ አበበ የኢትዮጵያ ኦሊምፒክ ኮሚቴ አርባ አምስተኛ መደበኛ ጠቅላላ ጉ...   \n",
              "5  December 30, 2020    10   ብርሃን ፈይሳ አዲስ አበባ፡- እንደ ሃገር እየታዩ ያሉትን ስብራቶችና ች...   \n",
              "6  December 30, 2020     3  ብርሃን ፈይሳ አዲስ አበባ፡- ስፖርታዊ እንቅስቃሴና ውድድሮች በሚከናወኑበ...   \n",
              "7  December 31, 2020    11  ቦጋለ አበበ‹‹ስፖርትና ፖለቲካ አንድ ናቸው ወይም ጠንካራ ግንኙነት አላቸ...   \n",
              "8    January 1, 2021    10  ቦጋለ አበበ በኮቪድ-19 ወረርሽኝ ምክንያት የዓለም ማህበራዊ፣ ፖለቲካዊና...   \n",
              "9     April 27, 2020    24   ኧሯ! እንዴት ሆኖ እንዴት ሆኖ እኛንማ አይደፍርም! ብለን ነበር ደፈረን...   \n",
              "\n",
              "                                link  \n",
              "0  https://www.press.et/Ama/?p=39481  \n",
              "1  https://www.press.et/Ama/?p=38334  \n",
              "2  https://www.press.et/Ama/?p=39010  \n",
              "3  https://www.press.et/Ama/?p=39011  \n",
              "4  https://www.press.et/Ama/?p=39012  \n",
              "5  https://www.press.et/Ama/?p=38512  \n",
              "6  https://www.press.et/Ama/?p=38515  \n",
              "7  https://www.press.et/Ama/?p=38578  \n",
              "8  https://www.press.et/Ama/?p=38650  \n",
              "9  https://www.press.et/Ama/?p=31198  "
            ],
            "text/html": [
              "\n",
              "  <div id=\"df-969e8178-7f7c-448b-8c67-1902e066b017\">\n",
              "    <div class=\"colab-df-container\">\n",
              "      <div>\n",
              "<style scoped>\n",
              "    .dataframe tbody tr th:only-of-type {\n",
              "        vertical-align: middle;\n",
              "    }\n",
              "\n",
              "    .dataframe tbody tr th {\n",
              "        vertical-align: top;\n",
              "    }\n",
              "\n",
              "    .dataframe thead th {\n",
              "        text-align: right;\n",
              "    }\n",
              "</style>\n",
              "<table border=\"1\" class=\"dataframe\">\n",
              "  <thead>\n",
              "    <tr style=\"text-align: right;\">\n",
              "      <th></th>\n",
              "      <th>headline</th>\n",
              "      <th>category</th>\n",
              "      <th>date</th>\n",
              "      <th>views</th>\n",
              "      <th>article</th>\n",
              "      <th>link</th>\n",
              "    </tr>\n",
              "  </thead>\n",
              "  <tbody>\n",
              "    <tr>\n",
              "      <th>0</th>\n",
              "      <td>የኦሊምፒክ ማጣሪያ ተሳታፊዎች የሚለዩበት ቻምፒዮና እየተካሄደ ይገኛል</td>\n",
              "      <td>ስፖርት</td>\n",
              "      <td>January 14, 2021</td>\n",
              "      <td>2</td>\n",
              "      <td>ብርሃን ፈይሳየኢትዮጵያ ቦክስ ፌዴሬሽን በየዓመቱ የሚያዘጋጀው የክለቦች ቻ...</td>\n",
              "      <td>https://www.press.et/Ama/?p=39481</td>\n",
              "    </tr>\n",
              "    <tr>\n",
              "      <th>1</th>\n",
              "      <td>አዲስ ዘመን ድሮ</td>\n",
              "      <td>መዝናኛ</td>\n",
              "      <td>December 28, 2020</td>\n",
              "      <td>4</td>\n",
              "      <td>የአዲስ ዘመን ጋዜጣ ቀደምት ዘገባዎች በእጅጉ ተነባቢ ዛሬም ላገኛቸው በ...</td>\n",
              "      <td>https://www.press.et/Ama/?p=38334</td>\n",
              "    </tr>\n",
              "    <tr>\n",
              "      <th>2</th>\n",
              "      <td>የአረንጓዴ ጎርፍ በጎ አድራጎት አምባሳደሮች ተሰየሙ</td>\n",
              "      <td>ስፖርት</td>\n",
              "      <td>January 6, 2021</td>\n",
              "      <td>6</td>\n",
              "      <td>ቦጋለ አበበየአዲስ አበባ ከተማ አስተዳደር ስፖርት ኮሚሽን ከኢትዮጵያ አረ...</td>\n",
              "      <td>https://www.press.et/Ama/?p=39010</td>\n",
              "    </tr>\n",
              "    <tr>\n",
              "      <th>3</th>\n",
              "      <td>የሊጉ በቢዝነስ ሞዴል መመራት አበረታች ጅምር መሆኑ ተገለጸ</td>\n",
              "      <td>ስፖርት</td>\n",
              "      <td>January 6, 2021</td>\n",
              "      <td>5</td>\n",
              "      <td>ብርሃን ፈይሳአዲስ አበባ፡- የኢትዮጵያ ፕሪምየር ሊግ በሼር ካምፓኒ እንዲ...</td>\n",
              "      <td>https://www.press.et/Ama/?p=39011</td>\n",
              "    </tr>\n",
              "    <tr>\n",
              "      <th>4</th>\n",
              "      <td>የኦሊምፒክ ሥራ አስፈፃሚው እስከ ቶኪዮ ኦሊምፒክ ማግስት ይቀጥላል</td>\n",
              "      <td>ስፖርት</td>\n",
              "      <td>January 6, 2021</td>\n",
              "      <td>12</td>\n",
              "      <td>ቦጋለ አበበ የኢትዮጵያ ኦሊምፒክ ኮሚቴ አርባ አምስተኛ መደበኛ ጠቅላላ ጉ...</td>\n",
              "      <td>https://www.press.et/Ama/?p=39012</td>\n",
              "    </tr>\n",
              "    <tr>\n",
              "      <th>5</th>\n",
              "      <td>‹‹ሃገራዊ ችግሮችን ለማረምና አብሮነትን ለማጠናከር ስፖርት ወሳኝ ነው››...</td>\n",
              "      <td>ስፖርት</td>\n",
              "      <td>December 30, 2020</td>\n",
              "      <td>10</td>\n",
              "      <td>ብርሃን ፈይሳ አዲስ አበባ፡- እንደ ሃገር እየታዩ ያሉትን ስብራቶችና ች...</td>\n",
              "      <td>https://www.press.et/Ama/?p=38512</td>\n",
              "    </tr>\n",
              "    <tr>\n",
              "      <th>6</th>\n",
              "      <td>በውድድር ወቅት በወረርሽኙ መከላከያ መመሪያዎች አተገባበር ላይ ስጋት እን...</td>\n",
              "      <td>ስፖርት</td>\n",
              "      <td>December 30, 2020</td>\n",
              "      <td>3</td>\n",
              "      <td>ብርሃን ፈይሳ አዲስ አበባ፡- ስፖርታዊ እንቅስቃሴና ውድድሮች በሚከናወኑበ...</td>\n",
              "      <td>https://www.press.et/Ama/?p=38515</td>\n",
              "    </tr>\n",
              "    <tr>\n",
              "      <th>7</th>\n",
              "      <td>ስፖርትን ከፖለቲካ የመለየት ፈተናዎች</td>\n",
              "      <td>ስፖርት</td>\n",
              "      <td>December 31, 2020</td>\n",
              "      <td>11</td>\n",
              "      <td>ቦጋለ አበበ‹‹ስፖርትና ፖለቲካ አንድ ናቸው ወይም ጠንካራ ግንኙነት አላቸ...</td>\n",
              "      <td>https://www.press.et/Ama/?p=38578</td>\n",
              "    </tr>\n",
              "    <tr>\n",
              "      <th>8</th>\n",
              "      <td>የዓለም አትሌቲክስና 2020 የውድድር ዓመት</td>\n",
              "      <td>ስፖርት</td>\n",
              "      <td>January 1, 2021</td>\n",
              "      <td>10</td>\n",
              "      <td>ቦጋለ አበበ በኮቪድ-19 ወረርሽኝ ምክንያት የዓለም ማህበራዊ፣ ፖለቲካዊና...</td>\n",
              "      <td>https://www.press.et/Ama/?p=38650</td>\n",
              "    </tr>\n",
              "    <tr>\n",
              "      <th>9</th>\n",
              "      <td>ለራስ ሲባል ሌላውን …</td>\n",
              "      <td>መዝናኛ</td>\n",
              "      <td>April 27, 2020</td>\n",
              "      <td>24</td>\n",
              "      <td>ኧሯ! እንዴት ሆኖ እንዴት ሆኖ እኛንማ አይደፍርም! ብለን ነበር ደፈረን...</td>\n",
              "      <td>https://www.press.et/Ama/?p=31198</td>\n",
              "    </tr>\n",
              "  </tbody>\n",
              "</table>\n",
              "</div>\n",
              "      <button class=\"colab-df-convert\" onclick=\"convertToInteractive('df-969e8178-7f7c-448b-8c67-1902e066b017')\"\n",
              "              title=\"Convert this dataframe to an interactive table.\"\n",
              "              style=\"display:none;\">\n",
              "        \n",
              "  <svg xmlns=\"http://www.w3.org/2000/svg\" height=\"24px\"viewBox=\"0 0 24 24\"\n",
              "       width=\"24px\">\n",
              "    <path d=\"M0 0h24v24H0V0z\" fill=\"none\"/>\n",
              "    <path d=\"M18.56 5.44l.94 2.06.94-2.06 2.06-.94-2.06-.94-.94-2.06-.94 2.06-2.06.94zm-11 1L8.5 8.5l.94-2.06 2.06-.94-2.06-.94L8.5 2.5l-.94 2.06-2.06.94zm10 10l.94 2.06.94-2.06 2.06-.94-2.06-.94-.94-2.06-.94 2.06-2.06.94z\"/><path d=\"M17.41 7.96l-1.37-1.37c-.4-.4-.92-.59-1.43-.59-.52 0-1.04.2-1.43.59L10.3 9.45l-7.72 7.72c-.78.78-.78 2.05 0 2.83L4 21.41c.39.39.9.59 1.41.59.51 0 1.02-.2 1.41-.59l7.78-7.78 2.81-2.81c.8-.78.8-2.07 0-2.86zM5.41 20L4 18.59l7.72-7.72 1.47 1.35L5.41 20z\"/>\n",
              "  </svg>\n",
              "      </button>\n",
              "      \n",
              "  <style>\n",
              "    .colab-df-container {\n",
              "      display:flex;\n",
              "      flex-wrap:wrap;\n",
              "      gap: 12px;\n",
              "    }\n",
              "\n",
              "    .colab-df-convert {\n",
              "      background-color: #E8F0FE;\n",
              "      border: none;\n",
              "      border-radius: 50%;\n",
              "      cursor: pointer;\n",
              "      display: none;\n",
              "      fill: #1967D2;\n",
              "      height: 32px;\n",
              "      padding: 0 0 0 0;\n",
              "      width: 32px;\n",
              "    }\n",
              "\n",
              "    .colab-df-convert:hover {\n",
              "      background-color: #E2EBFA;\n",
              "      box-shadow: 0px 1px 2px rgba(60, 64, 67, 0.3), 0px 1px 3px 1px rgba(60, 64, 67, 0.15);\n",
              "      fill: #174EA6;\n",
              "    }\n",
              "\n",
              "    [theme=dark] .colab-df-convert {\n",
              "      background-color: #3B4455;\n",
              "      fill: #D2E3FC;\n",
              "    }\n",
              "\n",
              "    [theme=dark] .colab-df-convert:hover {\n",
              "      background-color: #434B5C;\n",
              "      box-shadow: 0px 1px 3px 1px rgba(0, 0, 0, 0.15);\n",
              "      filter: drop-shadow(0px 1px 2px rgba(0, 0, 0, 0.3));\n",
              "      fill: #FFFFFF;\n",
              "    }\n",
              "  </style>\n",
              "\n",
              "      <script>\n",
              "        const buttonEl =\n",
              "          document.querySelector('#df-969e8178-7f7c-448b-8c67-1902e066b017 button.colab-df-convert');\n",
              "        buttonEl.style.display =\n",
              "          google.colab.kernel.accessAllowed ? 'block' : 'none';\n",
              "\n",
              "        async function convertToInteractive(key) {\n",
              "          const element = document.querySelector('#df-969e8178-7f7c-448b-8c67-1902e066b017');\n",
              "          const dataTable =\n",
              "            await google.colab.kernel.invokeFunction('convertToInteractive',\n",
              "                                                     [key], {});\n",
              "          if (!dataTable) return;\n",
              "\n",
              "          const docLinkHtml = 'Like what you see? Visit the ' +\n",
              "            '<a target=\"_blank\" href=https://colab.research.google.com/notebooks/data_table.ipynb>data table notebook</a>'\n",
              "            + ' to learn more about interactive tables.';\n",
              "          element.innerHTML = '';\n",
              "          dataTable['output_type'] = 'display_data';\n",
              "          await google.colab.output.renderOutput(dataTable, element);\n",
              "          const docLink = document.createElement('div');\n",
              "          docLink.innerHTML = docLinkHtml;\n",
              "          element.appendChild(docLink);\n",
              "        }\n",
              "      </script>\n",
              "    </div>\n",
              "  </div>\n",
              "  "
            ]
          },
          "metadata": {},
          "execution_count": 6
        }
      ],
      "source": [
        "df = pd.read_csv('Amharic News Dataset.csv').dropna()\n",
        "df.head(10)"
      ]
    },
    {
      "cell_type": "code",
      "execution_count": 7,
      "metadata": {
        "colab": {
          "base_uri": "https://localhost:8080/"
        },
        "id": "abl7DQ1gmRfF",
        "outputId": "61ae78cc-02ee-4d3d-df5c-80d70cb33b3a"
      },
      "outputs": [
        {
          "output_type": "execute_result",
          "data": {
            "text/plain": [
              "headline    0\n",
              "category    0\n",
              "date        0\n",
              "views       0\n",
              "article     0\n",
              "link        0\n",
              "dtype: int64"
            ]
          },
          "metadata": {},
          "execution_count": 7
        }
      ],
      "source": [
        "df.isna().sum()"
      ]
    },
    {
      "cell_type": "code",
      "execution_count": 8,
      "metadata": {
        "id": "-B58wAKcVWeR"
      },
      "outputs": [],
      "source": [
        "df = df.drop_duplicates(subset=['link'], keep='first')"
      ]
    },
    {
      "cell_type": "code",
      "execution_count": 9,
      "metadata": {
        "id": "jeANVsbRIry0"
      },
      "outputs": [],
      "source": [
        "category_translation = {\n",
        "    'ሀገር አቀፍ ዜና' : 'Local News', \n",
        "    'መዝናኛ' : 'Entertainment', \n",
        "    'ስፖርት' : 'Sport', \n",
        "    'ቢዝነስ' : 'Business', \n",
        "    'ዓለም አቀፍ ዜና' : 'International News', \n",
        "    'ፖለቲካ' : 'Politics'\n",
        "}\n",
        "\n",
        "df['category_eng'] = df['category'].apply(lambda x: category_translation[x])"
      ]
    },
    {
      "cell_type": "code",
      "execution_count": 10,
      "metadata": {
        "colab": {
          "base_uri": "https://localhost:8080/",
          "height": 269
        },
        "id": "xlnt6HV3l6OB",
        "outputId": "02194c5c-a2cf-49a9-e2d5-02f959a5367a"
      },
      "outputs": [
        {
          "output_type": "execute_result",
          "data": {
            "text/plain": [
              "                               headline   date  views  article   link\n",
              "category   category_eng                                              \n",
              "ሀገር አቀፍ ዜና Local News             20643  20643  20643    20643  20643\n",
              "መዝናኛ       Entertainment            632    632    632      632    632\n",
              "ስፖርት       Sport                  10400  10400  10400    10400  10400\n",
              "ቢዝነስ       Business                3871   3871   3871     3871   3871\n",
              "ዓለም አቀፍ ዜና International News      5919   5919   5919     5919   5919\n",
              "ፖለቲካ       Politics                9300   9300   9300     9300   9300"
            ],
            "text/html": [
              "\n",
              "  <div id=\"df-7d728d7f-1316-4aaf-86c3-2382290dbf89\">\n",
              "    <div class=\"colab-df-container\">\n",
              "      <div>\n",
              "<style scoped>\n",
              "    .dataframe tbody tr th:only-of-type {\n",
              "        vertical-align: middle;\n",
              "    }\n",
              "\n",
              "    .dataframe tbody tr th {\n",
              "        vertical-align: top;\n",
              "    }\n",
              "\n",
              "    .dataframe thead th {\n",
              "        text-align: right;\n",
              "    }\n",
              "</style>\n",
              "<table border=\"1\" class=\"dataframe\">\n",
              "  <thead>\n",
              "    <tr style=\"text-align: right;\">\n",
              "      <th></th>\n",
              "      <th></th>\n",
              "      <th>headline</th>\n",
              "      <th>date</th>\n",
              "      <th>views</th>\n",
              "      <th>article</th>\n",
              "      <th>link</th>\n",
              "    </tr>\n",
              "    <tr>\n",
              "      <th>category</th>\n",
              "      <th>category_eng</th>\n",
              "      <th></th>\n",
              "      <th></th>\n",
              "      <th></th>\n",
              "      <th></th>\n",
              "      <th></th>\n",
              "    </tr>\n",
              "  </thead>\n",
              "  <tbody>\n",
              "    <tr>\n",
              "      <th>ሀገር አቀፍ ዜና</th>\n",
              "      <th>Local News</th>\n",
              "      <td>20643</td>\n",
              "      <td>20643</td>\n",
              "      <td>20643</td>\n",
              "      <td>20643</td>\n",
              "      <td>20643</td>\n",
              "    </tr>\n",
              "    <tr>\n",
              "      <th>መዝናኛ</th>\n",
              "      <th>Entertainment</th>\n",
              "      <td>632</td>\n",
              "      <td>632</td>\n",
              "      <td>632</td>\n",
              "      <td>632</td>\n",
              "      <td>632</td>\n",
              "    </tr>\n",
              "    <tr>\n",
              "      <th>ስፖርት</th>\n",
              "      <th>Sport</th>\n",
              "      <td>10400</td>\n",
              "      <td>10400</td>\n",
              "      <td>10400</td>\n",
              "      <td>10400</td>\n",
              "      <td>10400</td>\n",
              "    </tr>\n",
              "    <tr>\n",
              "      <th>ቢዝነስ</th>\n",
              "      <th>Business</th>\n",
              "      <td>3871</td>\n",
              "      <td>3871</td>\n",
              "      <td>3871</td>\n",
              "      <td>3871</td>\n",
              "      <td>3871</td>\n",
              "    </tr>\n",
              "    <tr>\n",
              "      <th>ዓለም አቀፍ ዜና</th>\n",
              "      <th>International News</th>\n",
              "      <td>5919</td>\n",
              "      <td>5919</td>\n",
              "      <td>5919</td>\n",
              "      <td>5919</td>\n",
              "      <td>5919</td>\n",
              "    </tr>\n",
              "    <tr>\n",
              "      <th>ፖለቲካ</th>\n",
              "      <th>Politics</th>\n",
              "      <td>9300</td>\n",
              "      <td>9300</td>\n",
              "      <td>9300</td>\n",
              "      <td>9300</td>\n",
              "      <td>9300</td>\n",
              "    </tr>\n",
              "  </tbody>\n",
              "</table>\n",
              "</div>\n",
              "      <button class=\"colab-df-convert\" onclick=\"convertToInteractive('df-7d728d7f-1316-4aaf-86c3-2382290dbf89')\"\n",
              "              title=\"Convert this dataframe to an interactive table.\"\n",
              "              style=\"display:none;\">\n",
              "        \n",
              "  <svg xmlns=\"http://www.w3.org/2000/svg\" height=\"24px\"viewBox=\"0 0 24 24\"\n",
              "       width=\"24px\">\n",
              "    <path d=\"M0 0h24v24H0V0z\" fill=\"none\"/>\n",
              "    <path d=\"M18.56 5.44l.94 2.06.94-2.06 2.06-.94-2.06-.94-.94-2.06-.94 2.06-2.06.94zm-11 1L8.5 8.5l.94-2.06 2.06-.94-2.06-.94L8.5 2.5l-.94 2.06-2.06.94zm10 10l.94 2.06.94-2.06 2.06-.94-2.06-.94-.94-2.06-.94 2.06-2.06.94z\"/><path d=\"M17.41 7.96l-1.37-1.37c-.4-.4-.92-.59-1.43-.59-.52 0-1.04.2-1.43.59L10.3 9.45l-7.72 7.72c-.78.78-.78 2.05 0 2.83L4 21.41c.39.39.9.59 1.41.59.51 0 1.02-.2 1.41-.59l7.78-7.78 2.81-2.81c.8-.78.8-2.07 0-2.86zM5.41 20L4 18.59l7.72-7.72 1.47 1.35L5.41 20z\"/>\n",
              "  </svg>\n",
              "      </button>\n",
              "      \n",
              "  <style>\n",
              "    .colab-df-container {\n",
              "      display:flex;\n",
              "      flex-wrap:wrap;\n",
              "      gap: 12px;\n",
              "    }\n",
              "\n",
              "    .colab-df-convert {\n",
              "      background-color: #E8F0FE;\n",
              "      border: none;\n",
              "      border-radius: 50%;\n",
              "      cursor: pointer;\n",
              "      display: none;\n",
              "      fill: #1967D2;\n",
              "      height: 32px;\n",
              "      padding: 0 0 0 0;\n",
              "      width: 32px;\n",
              "    }\n",
              "\n",
              "    .colab-df-convert:hover {\n",
              "      background-color: #E2EBFA;\n",
              "      box-shadow: 0px 1px 2px rgba(60, 64, 67, 0.3), 0px 1px 3px 1px rgba(60, 64, 67, 0.15);\n",
              "      fill: #174EA6;\n",
              "    }\n",
              "\n",
              "    [theme=dark] .colab-df-convert {\n",
              "      background-color: #3B4455;\n",
              "      fill: #D2E3FC;\n",
              "    }\n",
              "\n",
              "    [theme=dark] .colab-df-convert:hover {\n",
              "      background-color: #434B5C;\n",
              "      box-shadow: 0px 1px 3px 1px rgba(0, 0, 0, 0.15);\n",
              "      filter: drop-shadow(0px 1px 2px rgba(0, 0, 0, 0.3));\n",
              "      fill: #FFFFFF;\n",
              "    }\n",
              "  </style>\n",
              "\n",
              "      <script>\n",
              "        const buttonEl =\n",
              "          document.querySelector('#df-7d728d7f-1316-4aaf-86c3-2382290dbf89 button.colab-df-convert');\n",
              "        buttonEl.style.display =\n",
              "          google.colab.kernel.accessAllowed ? 'block' : 'none';\n",
              "\n",
              "        async function convertToInteractive(key) {\n",
              "          const element = document.querySelector('#df-7d728d7f-1316-4aaf-86c3-2382290dbf89');\n",
              "          const dataTable =\n",
              "            await google.colab.kernel.invokeFunction('convertToInteractive',\n",
              "                                                     [key], {});\n",
              "          if (!dataTable) return;\n",
              "\n",
              "          const docLinkHtml = 'Like what you see? Visit the ' +\n",
              "            '<a target=\"_blank\" href=https://colab.research.google.com/notebooks/data_table.ipynb>data table notebook</a>'\n",
              "            + ' to learn more about interactive tables.';\n",
              "          element.innerHTML = '';\n",
              "          dataTable['output_type'] = 'display_data';\n",
              "          await google.colab.output.renderOutput(dataTable, element);\n",
              "          const docLink = document.createElement('div');\n",
              "          docLink.innerHTML = docLinkHtml;\n",
              "          element.appendChild(docLink);\n",
              "        }\n",
              "      </script>\n",
              "    </div>\n",
              "  </div>\n",
              "  "
            ]
          },
          "metadata": {},
          "execution_count": 10
        }
      ],
      "source": [
        "df.groupby(['category', 'category_eng']).count()"
      ]
    },
    {
      "cell_type": "markdown",
      "metadata": {
        "id": "bKhbRiwczItQ"
      },
      "source": [
        "## **Preprocessing**"
      ]
    },
    {
      "cell_type": "markdown",
      "metadata": {
        "id": "iFVIcfwizNmR"
      },
      "source": [
        "#### 1. Clean the amharic text in the articles "
      ]
    },
    {
      "cell_type": "code",
      "execution_count": 11,
      "metadata": {
        "colab": {
          "base_uri": "https://localhost:8080/",
          "height": 406
        },
        "id": "3q_Zc6do0ooG",
        "outputId": "71229d3c-5543-4a42-a5ab-ee826519e83d"
      },
      "outputs": [
        {
          "output_type": "execute_result",
          "data": {
            "text/plain": [
              "                                      headline category               date  \\\n",
              "0  የኦሊምፒክ ማጣሪያ ተሳታፊዎች የሚለዩበት ቻምፒዮና እየተካሄደ ይገኛል     ስፖርት   January 14, 2021   \n",
              "1                                   አዲስ ዘመን ድሮ     መዝናኛ  December 28, 2020   \n",
              "2             የአረንጓዴ ጎርፍ በጎ አድራጎት አምባሳደሮች ተሰየሙ     ስፖርት    January 6, 2021   \n",
              "3        የሊጉ በቢዝነስ ሞዴል መመራት አበረታች ጅምር መሆኑ ተገለጸ     ስፖርት    January 6, 2021   \n",
              "4    የኦሊምፒክ ሥራ አስፈፃሚው እስከ ቶኪዮ ኦሊምፒክ ማግስት ይቀጥላል     ስፖርት    January 6, 2021   \n",
              "\n",
              "  views                                            article  \\\n",
              "0     2  ብርሃን ፈይሳየኢትዮጵያ ቦክስ ፌዴሬሽን በየዓመቱ የሚያዘጋጀው የክለቦች ቻ...   \n",
              "1     4   የአዲስ ዘመን ጋዜጣ ቀደምት ዘገባዎች በእጅጉ ተነባቢ ዛሬም ላገኛቸው በ...   \n",
              "2     6  ቦጋለ አበበየአዲስ አበባ ከተማ አስተዳደር ስፖርት ኮሚሽን ከኢትዮጵያ አረ...   \n",
              "3     5  ብርሃን ፈይሳአዲስ አበባ፡- የኢትዮጵያ ፕሪምየር ሊግ በሼር ካምፓኒ እንዲ...   \n",
              "4    12  ቦጋለ አበበ የኢትዮጵያ ኦሊምፒክ ኮሚቴ አርባ አምስተኛ መደበኛ ጠቅላላ ጉ...   \n",
              "\n",
              "                                link   category_eng  \\\n",
              "0  https://www.press.et/Ama/?p=39481          Sport   \n",
              "1  https://www.press.et/Ama/?p=38334  Entertainment   \n",
              "2  https://www.press.et/Ama/?p=39010          Sport   \n",
              "3  https://www.press.et/Ama/?p=39011          Sport   \n",
              "4  https://www.press.et/Ama/?p=39012          Sport   \n",
              "\n",
              "                                       article_clean  \n",
              "0  ብርሃን ፈይሳየኢትዮጵያ ቦክስ ፌዴሬሽን በየዓመቱ የሚያዘጋጀው የክለቦች ቻ...  \n",
              "1   የአዲስ ዘመን ጋዜጣ ቀደምት ዘገባዎች በእጅጉ ተነባቢ ዛሬም ላገኛቸው በ...  \n",
              "2  ቦጋለ አበበየአዲስ አበባ ከተማ አስተዳደር ስፖርት ኮሚሽን ከኢትዮጵያ አረ...  \n",
              "3  ብርሃን ፈይሳአዲስ አበባ   የኢትዮጵያ ፕሪምየር ሊግ በሼር ካምፓኒ እንዲ...  \n",
              "4  ቦጋለ አበበ የኢትዮጵያ ኦሊምፒክ ኮሚቴ አርባ አምስተኛ መደበኛ ጠቅላላ ጉ...  "
            ],
            "text/html": [
              "\n",
              "  <div id=\"df-d46dd87c-7da6-4156-a019-e37de64592ee\">\n",
              "    <div class=\"colab-df-container\">\n",
              "      <div>\n",
              "<style scoped>\n",
              "    .dataframe tbody tr th:only-of-type {\n",
              "        vertical-align: middle;\n",
              "    }\n",
              "\n",
              "    .dataframe tbody tr th {\n",
              "        vertical-align: top;\n",
              "    }\n",
              "\n",
              "    .dataframe thead th {\n",
              "        text-align: right;\n",
              "    }\n",
              "</style>\n",
              "<table border=\"1\" class=\"dataframe\">\n",
              "  <thead>\n",
              "    <tr style=\"text-align: right;\">\n",
              "      <th></th>\n",
              "      <th>headline</th>\n",
              "      <th>category</th>\n",
              "      <th>date</th>\n",
              "      <th>views</th>\n",
              "      <th>article</th>\n",
              "      <th>link</th>\n",
              "      <th>category_eng</th>\n",
              "      <th>article_clean</th>\n",
              "    </tr>\n",
              "  </thead>\n",
              "  <tbody>\n",
              "    <tr>\n",
              "      <th>0</th>\n",
              "      <td>የኦሊምፒክ ማጣሪያ ተሳታፊዎች የሚለዩበት ቻምፒዮና እየተካሄደ ይገኛል</td>\n",
              "      <td>ስፖርት</td>\n",
              "      <td>January 14, 2021</td>\n",
              "      <td>2</td>\n",
              "      <td>ብርሃን ፈይሳየኢትዮጵያ ቦክስ ፌዴሬሽን በየዓመቱ የሚያዘጋጀው የክለቦች ቻ...</td>\n",
              "      <td>https://www.press.et/Ama/?p=39481</td>\n",
              "      <td>Sport</td>\n",
              "      <td>ብርሃን ፈይሳየኢትዮጵያ ቦክስ ፌዴሬሽን በየዓመቱ የሚያዘጋጀው የክለቦች ቻ...</td>\n",
              "    </tr>\n",
              "    <tr>\n",
              "      <th>1</th>\n",
              "      <td>አዲስ ዘመን ድሮ</td>\n",
              "      <td>መዝናኛ</td>\n",
              "      <td>December 28, 2020</td>\n",
              "      <td>4</td>\n",
              "      <td>የአዲስ ዘመን ጋዜጣ ቀደምት ዘገባዎች በእጅጉ ተነባቢ ዛሬም ላገኛቸው በ...</td>\n",
              "      <td>https://www.press.et/Ama/?p=38334</td>\n",
              "      <td>Entertainment</td>\n",
              "      <td>የአዲስ ዘመን ጋዜጣ ቀደምት ዘገባዎች በእጅጉ ተነባቢ ዛሬም ላገኛቸው በ...</td>\n",
              "    </tr>\n",
              "    <tr>\n",
              "      <th>2</th>\n",
              "      <td>የአረንጓዴ ጎርፍ በጎ አድራጎት አምባሳደሮች ተሰየሙ</td>\n",
              "      <td>ስፖርት</td>\n",
              "      <td>January 6, 2021</td>\n",
              "      <td>6</td>\n",
              "      <td>ቦጋለ አበበየአዲስ አበባ ከተማ አስተዳደር ስፖርት ኮሚሽን ከኢትዮጵያ አረ...</td>\n",
              "      <td>https://www.press.et/Ama/?p=39010</td>\n",
              "      <td>Sport</td>\n",
              "      <td>ቦጋለ አበበየአዲስ አበባ ከተማ አስተዳደር ስፖርት ኮሚሽን ከኢትዮጵያ አረ...</td>\n",
              "    </tr>\n",
              "    <tr>\n",
              "      <th>3</th>\n",
              "      <td>የሊጉ በቢዝነስ ሞዴል መመራት አበረታች ጅምር መሆኑ ተገለጸ</td>\n",
              "      <td>ስፖርት</td>\n",
              "      <td>January 6, 2021</td>\n",
              "      <td>5</td>\n",
              "      <td>ብርሃን ፈይሳአዲስ አበባ፡- የኢትዮጵያ ፕሪምየር ሊግ በሼር ካምፓኒ እንዲ...</td>\n",
              "      <td>https://www.press.et/Ama/?p=39011</td>\n",
              "      <td>Sport</td>\n",
              "      <td>ብርሃን ፈይሳአዲስ አበባ   የኢትዮጵያ ፕሪምየር ሊግ በሼር ካምፓኒ እንዲ...</td>\n",
              "    </tr>\n",
              "    <tr>\n",
              "      <th>4</th>\n",
              "      <td>የኦሊምፒክ ሥራ አስፈፃሚው እስከ ቶኪዮ ኦሊምፒክ ማግስት ይቀጥላል</td>\n",
              "      <td>ስፖርት</td>\n",
              "      <td>January 6, 2021</td>\n",
              "      <td>12</td>\n",
              "      <td>ቦጋለ አበበ የኢትዮጵያ ኦሊምፒክ ኮሚቴ አርባ አምስተኛ መደበኛ ጠቅላላ ጉ...</td>\n",
              "      <td>https://www.press.et/Ama/?p=39012</td>\n",
              "      <td>Sport</td>\n",
              "      <td>ቦጋለ አበበ የኢትዮጵያ ኦሊምፒክ ኮሚቴ አርባ አምስተኛ መደበኛ ጠቅላላ ጉ...</td>\n",
              "    </tr>\n",
              "  </tbody>\n",
              "</table>\n",
              "</div>\n",
              "      <button class=\"colab-df-convert\" onclick=\"convertToInteractive('df-d46dd87c-7da6-4156-a019-e37de64592ee')\"\n",
              "              title=\"Convert this dataframe to an interactive table.\"\n",
              "              style=\"display:none;\">\n",
              "        \n",
              "  <svg xmlns=\"http://www.w3.org/2000/svg\" height=\"24px\"viewBox=\"0 0 24 24\"\n",
              "       width=\"24px\">\n",
              "    <path d=\"M0 0h24v24H0V0z\" fill=\"none\"/>\n",
              "    <path d=\"M18.56 5.44l.94 2.06.94-2.06 2.06-.94-2.06-.94-.94-2.06-.94 2.06-2.06.94zm-11 1L8.5 8.5l.94-2.06 2.06-.94-2.06-.94L8.5 2.5l-.94 2.06-2.06.94zm10 10l.94 2.06.94-2.06 2.06-.94-2.06-.94-.94-2.06-.94 2.06-2.06.94z\"/><path d=\"M17.41 7.96l-1.37-1.37c-.4-.4-.92-.59-1.43-.59-.52 0-1.04.2-1.43.59L10.3 9.45l-7.72 7.72c-.78.78-.78 2.05 0 2.83L4 21.41c.39.39.9.59 1.41.59.51 0 1.02-.2 1.41-.59l7.78-7.78 2.81-2.81c.8-.78.8-2.07 0-2.86zM5.41 20L4 18.59l7.72-7.72 1.47 1.35L5.41 20z\"/>\n",
              "  </svg>\n",
              "      </button>\n",
              "      \n",
              "  <style>\n",
              "    .colab-df-container {\n",
              "      display:flex;\n",
              "      flex-wrap:wrap;\n",
              "      gap: 12px;\n",
              "    }\n",
              "\n",
              "    .colab-df-convert {\n",
              "      background-color: #E8F0FE;\n",
              "      border: none;\n",
              "      border-radius: 50%;\n",
              "      cursor: pointer;\n",
              "      display: none;\n",
              "      fill: #1967D2;\n",
              "      height: 32px;\n",
              "      padding: 0 0 0 0;\n",
              "      width: 32px;\n",
              "    }\n",
              "\n",
              "    .colab-df-convert:hover {\n",
              "      background-color: #E2EBFA;\n",
              "      box-shadow: 0px 1px 2px rgba(60, 64, 67, 0.3), 0px 1px 3px 1px rgba(60, 64, 67, 0.15);\n",
              "      fill: #174EA6;\n",
              "    }\n",
              "\n",
              "    [theme=dark] .colab-df-convert {\n",
              "      background-color: #3B4455;\n",
              "      fill: #D2E3FC;\n",
              "    }\n",
              "\n",
              "    [theme=dark] .colab-df-convert:hover {\n",
              "      background-color: #434B5C;\n",
              "      box-shadow: 0px 1px 3px 1px rgba(0, 0, 0, 0.15);\n",
              "      filter: drop-shadow(0px 1px 2px rgba(0, 0, 0, 0.3));\n",
              "      fill: #FFFFFF;\n",
              "    }\n",
              "  </style>\n",
              "\n",
              "      <script>\n",
              "        const buttonEl =\n",
              "          document.querySelector('#df-d46dd87c-7da6-4156-a019-e37de64592ee button.colab-df-convert');\n",
              "        buttonEl.style.display =\n",
              "          google.colab.kernel.accessAllowed ? 'block' : 'none';\n",
              "\n",
              "        async function convertToInteractive(key) {\n",
              "          const element = document.querySelector('#df-d46dd87c-7da6-4156-a019-e37de64592ee');\n",
              "          const dataTable =\n",
              "            await google.colab.kernel.invokeFunction('convertToInteractive',\n",
              "                                                     [key], {});\n",
              "          if (!dataTable) return;\n",
              "\n",
              "          const docLinkHtml = 'Like what you see? Visit the ' +\n",
              "            '<a target=\"_blank\" href=https://colab.research.google.com/notebooks/data_table.ipynb>data table notebook</a>'\n",
              "            + ' to learn more about interactive tables.';\n",
              "          element.innerHTML = '';\n",
              "          dataTable['output_type'] = 'display_data';\n",
              "          await google.colab.output.renderOutput(dataTable, element);\n",
              "          const docLink = document.createElement('div');\n",
              "          docLink.innerHTML = docLinkHtml;\n",
              "          element.appendChild(docLink);\n",
              "        }\n",
              "      </script>\n",
              "    </div>\n",
              "  </div>\n",
              "  "
            ]
          },
          "metadata": {},
          "execution_count": 11
        }
      ],
      "source": [
        "def clean_text(text):\n",
        "  # remove punctuation\n",
        "  text = re.sub(r'[^\\w\\s]',' ', text) \n",
        "  \n",
        "  # remove english letters and numbers\n",
        "  text = re.sub('[A-Za-z0-9]', '', text) \n",
        "\n",
        "  # remove amharic numbers\n",
        "  text = re.sub('[\\'\\u1369-\\u137C\\']+','', text) \n",
        "\n",
        "  return text\n",
        "\n",
        "df['article_clean'] = df['article'].apply(clean_text)\n",
        "df.head()"
      ]
    },
    {
      "cell_type": "markdown",
      "metadata": {
        "id": "_P1C7_UB9N0I"
      },
      "source": [
        "#### 2. Remove articles that are either too short or too long"
      ]
    },
    {
      "cell_type": "code",
      "execution_count": 12,
      "metadata": {
        "colab": {
          "base_uri": "https://localhost:8080/",
          "height": 441
        },
        "id": "Zegixyw7mGrx",
        "outputId": "3e6dca7e-29c9-4b56-c376-9ea589582a1c"
      },
      "outputs": [
        {
          "output_type": "execute_result",
          "data": {
            "text/plain": [
              "                                      headline category               date  \\\n",
              "0  የኦሊምፒክ ማጣሪያ ተሳታፊዎች የሚለዩበት ቻምፒዮና እየተካሄደ ይገኛል     ስፖርት   January 14, 2021   \n",
              "1                                   አዲስ ዘመን ድሮ     መዝናኛ  December 28, 2020   \n",
              "2             የአረንጓዴ ጎርፍ በጎ አድራጎት አምባሳደሮች ተሰየሙ     ስፖርት    January 6, 2021   \n",
              "3        የሊጉ በቢዝነስ ሞዴል መመራት አበረታች ጅምር መሆኑ ተገለጸ     ስፖርት    January 6, 2021   \n",
              "4    የኦሊምፒክ ሥራ አስፈፃሚው እስከ ቶኪዮ ኦሊምፒክ ማግስት ይቀጥላል     ስፖርት    January 6, 2021   \n",
              "\n",
              "  views                                            article  \\\n",
              "0     2  ብርሃን ፈይሳየኢትዮጵያ ቦክስ ፌዴሬሽን በየዓመቱ የሚያዘጋጀው የክለቦች ቻ...   \n",
              "1     4   የአዲስ ዘመን ጋዜጣ ቀደምት ዘገባዎች በእጅጉ ተነባቢ ዛሬም ላገኛቸው በ...   \n",
              "2     6  ቦጋለ አበበየአዲስ አበባ ከተማ አስተዳደር ስፖርት ኮሚሽን ከኢትዮጵያ አረ...   \n",
              "3     5  ብርሃን ፈይሳአዲስ አበባ፡- የኢትዮጵያ ፕሪምየር ሊግ በሼር ካምፓኒ እንዲ...   \n",
              "4    12  ቦጋለ አበበ የኢትዮጵያ ኦሊምፒክ ኮሚቴ አርባ አምስተኛ መደበኛ ጠቅላላ ጉ...   \n",
              "\n",
              "                                link   category_eng  \\\n",
              "0  https://www.press.et/Ama/?p=39481          Sport   \n",
              "1  https://www.press.et/Ama/?p=38334  Entertainment   \n",
              "2  https://www.press.et/Ama/?p=39010          Sport   \n",
              "3  https://www.press.et/Ama/?p=39011          Sport   \n",
              "4  https://www.press.et/Ama/?p=39012          Sport   \n",
              "\n",
              "                                       article_clean  num_words  \n",
              "0  ብርሃን ፈይሳየኢትዮጵያ ቦክስ ፌዴሬሽን በየዓመቱ የሚያዘጋጀው የክለቦች ቻ...        339  \n",
              "1   የአዲስ ዘመን ጋዜጣ ቀደምት ዘገባዎች በእጅጉ ተነባቢ ዛሬም ላገኛቸው በ...        509  \n",
              "2  ቦጋለ አበበየአዲስ አበባ ከተማ አስተዳደር ስፖርት ኮሚሽን ከኢትዮጵያ አረ...        296  \n",
              "3  ብርሃን ፈይሳአዲስ አበባ   የኢትዮጵያ ፕሪምየር ሊግ በሼር ካምፓኒ እንዲ...        321  \n",
              "4  ቦጋለ አበበ የኢትዮጵያ ኦሊምፒክ ኮሚቴ አርባ አምስተኛ መደበኛ ጠቅላላ ጉ...        499  "
            ],
            "text/html": [
              "\n",
              "  <div id=\"df-5fe91988-b796-49ca-b6e1-4ba16a1ba0bc\">\n",
              "    <div class=\"colab-df-container\">\n",
              "      <div>\n",
              "<style scoped>\n",
              "    .dataframe tbody tr th:only-of-type {\n",
              "        vertical-align: middle;\n",
              "    }\n",
              "\n",
              "    .dataframe tbody tr th {\n",
              "        vertical-align: top;\n",
              "    }\n",
              "\n",
              "    .dataframe thead th {\n",
              "        text-align: right;\n",
              "    }\n",
              "</style>\n",
              "<table border=\"1\" class=\"dataframe\">\n",
              "  <thead>\n",
              "    <tr style=\"text-align: right;\">\n",
              "      <th></th>\n",
              "      <th>headline</th>\n",
              "      <th>category</th>\n",
              "      <th>date</th>\n",
              "      <th>views</th>\n",
              "      <th>article</th>\n",
              "      <th>link</th>\n",
              "      <th>category_eng</th>\n",
              "      <th>article_clean</th>\n",
              "      <th>num_words</th>\n",
              "    </tr>\n",
              "  </thead>\n",
              "  <tbody>\n",
              "    <tr>\n",
              "      <th>0</th>\n",
              "      <td>የኦሊምፒክ ማጣሪያ ተሳታፊዎች የሚለዩበት ቻምፒዮና እየተካሄደ ይገኛል</td>\n",
              "      <td>ስፖርት</td>\n",
              "      <td>January 14, 2021</td>\n",
              "      <td>2</td>\n",
              "      <td>ብርሃን ፈይሳየኢትዮጵያ ቦክስ ፌዴሬሽን በየዓመቱ የሚያዘጋጀው የክለቦች ቻ...</td>\n",
              "      <td>https://www.press.et/Ama/?p=39481</td>\n",
              "      <td>Sport</td>\n",
              "      <td>ብርሃን ፈይሳየኢትዮጵያ ቦክስ ፌዴሬሽን በየዓመቱ የሚያዘጋጀው የክለቦች ቻ...</td>\n",
              "      <td>339</td>\n",
              "    </tr>\n",
              "    <tr>\n",
              "      <th>1</th>\n",
              "      <td>አዲስ ዘመን ድሮ</td>\n",
              "      <td>መዝናኛ</td>\n",
              "      <td>December 28, 2020</td>\n",
              "      <td>4</td>\n",
              "      <td>የአዲስ ዘመን ጋዜጣ ቀደምት ዘገባዎች በእጅጉ ተነባቢ ዛሬም ላገኛቸው በ...</td>\n",
              "      <td>https://www.press.et/Ama/?p=38334</td>\n",
              "      <td>Entertainment</td>\n",
              "      <td>የአዲስ ዘመን ጋዜጣ ቀደምት ዘገባዎች በእጅጉ ተነባቢ ዛሬም ላገኛቸው በ...</td>\n",
              "      <td>509</td>\n",
              "    </tr>\n",
              "    <tr>\n",
              "      <th>2</th>\n",
              "      <td>የአረንጓዴ ጎርፍ በጎ አድራጎት አምባሳደሮች ተሰየሙ</td>\n",
              "      <td>ስፖርት</td>\n",
              "      <td>January 6, 2021</td>\n",
              "      <td>6</td>\n",
              "      <td>ቦጋለ አበበየአዲስ አበባ ከተማ አስተዳደር ስፖርት ኮሚሽን ከኢትዮጵያ አረ...</td>\n",
              "      <td>https://www.press.et/Ama/?p=39010</td>\n",
              "      <td>Sport</td>\n",
              "      <td>ቦጋለ አበበየአዲስ አበባ ከተማ አስተዳደር ስፖርት ኮሚሽን ከኢትዮጵያ አረ...</td>\n",
              "      <td>296</td>\n",
              "    </tr>\n",
              "    <tr>\n",
              "      <th>3</th>\n",
              "      <td>የሊጉ በቢዝነስ ሞዴል መመራት አበረታች ጅምር መሆኑ ተገለጸ</td>\n",
              "      <td>ስፖርት</td>\n",
              "      <td>January 6, 2021</td>\n",
              "      <td>5</td>\n",
              "      <td>ብርሃን ፈይሳአዲስ አበባ፡- የኢትዮጵያ ፕሪምየር ሊግ በሼር ካምፓኒ እንዲ...</td>\n",
              "      <td>https://www.press.et/Ama/?p=39011</td>\n",
              "      <td>Sport</td>\n",
              "      <td>ብርሃን ፈይሳአዲስ አበባ   የኢትዮጵያ ፕሪምየር ሊግ በሼር ካምፓኒ እንዲ...</td>\n",
              "      <td>321</td>\n",
              "    </tr>\n",
              "    <tr>\n",
              "      <th>4</th>\n",
              "      <td>የኦሊምፒክ ሥራ አስፈፃሚው እስከ ቶኪዮ ኦሊምፒክ ማግስት ይቀጥላል</td>\n",
              "      <td>ስፖርት</td>\n",
              "      <td>January 6, 2021</td>\n",
              "      <td>12</td>\n",
              "      <td>ቦጋለ አበበ የኢትዮጵያ ኦሊምፒክ ኮሚቴ አርባ አምስተኛ መደበኛ ጠቅላላ ጉ...</td>\n",
              "      <td>https://www.press.et/Ama/?p=39012</td>\n",
              "      <td>Sport</td>\n",
              "      <td>ቦጋለ አበበ የኢትዮጵያ ኦሊምፒክ ኮሚቴ አርባ አምስተኛ መደበኛ ጠቅላላ ጉ...</td>\n",
              "      <td>499</td>\n",
              "    </tr>\n",
              "  </tbody>\n",
              "</table>\n",
              "</div>\n",
              "      <button class=\"colab-df-convert\" onclick=\"convertToInteractive('df-5fe91988-b796-49ca-b6e1-4ba16a1ba0bc')\"\n",
              "              title=\"Convert this dataframe to an interactive table.\"\n",
              "              style=\"display:none;\">\n",
              "        \n",
              "  <svg xmlns=\"http://www.w3.org/2000/svg\" height=\"24px\"viewBox=\"0 0 24 24\"\n",
              "       width=\"24px\">\n",
              "    <path d=\"M0 0h24v24H0V0z\" fill=\"none\"/>\n",
              "    <path d=\"M18.56 5.44l.94 2.06.94-2.06 2.06-.94-2.06-.94-.94-2.06-.94 2.06-2.06.94zm-11 1L8.5 8.5l.94-2.06 2.06-.94-2.06-.94L8.5 2.5l-.94 2.06-2.06.94zm10 10l.94 2.06.94-2.06 2.06-.94-2.06-.94-.94-2.06-.94 2.06-2.06.94z\"/><path d=\"M17.41 7.96l-1.37-1.37c-.4-.4-.92-.59-1.43-.59-.52 0-1.04.2-1.43.59L10.3 9.45l-7.72 7.72c-.78.78-.78 2.05 0 2.83L4 21.41c.39.39.9.59 1.41.59.51 0 1.02-.2 1.41-.59l7.78-7.78 2.81-2.81c.8-.78.8-2.07 0-2.86zM5.41 20L4 18.59l7.72-7.72 1.47 1.35L5.41 20z\"/>\n",
              "  </svg>\n",
              "      </button>\n",
              "      \n",
              "  <style>\n",
              "    .colab-df-container {\n",
              "      display:flex;\n",
              "      flex-wrap:wrap;\n",
              "      gap: 12px;\n",
              "    }\n",
              "\n",
              "    .colab-df-convert {\n",
              "      background-color: #E8F0FE;\n",
              "      border: none;\n",
              "      border-radius: 50%;\n",
              "      cursor: pointer;\n",
              "      display: none;\n",
              "      fill: #1967D2;\n",
              "      height: 32px;\n",
              "      padding: 0 0 0 0;\n",
              "      width: 32px;\n",
              "    }\n",
              "\n",
              "    .colab-df-convert:hover {\n",
              "      background-color: #E2EBFA;\n",
              "      box-shadow: 0px 1px 2px rgba(60, 64, 67, 0.3), 0px 1px 3px 1px rgba(60, 64, 67, 0.15);\n",
              "      fill: #174EA6;\n",
              "    }\n",
              "\n",
              "    [theme=dark] .colab-df-convert {\n",
              "      background-color: #3B4455;\n",
              "      fill: #D2E3FC;\n",
              "    }\n",
              "\n",
              "    [theme=dark] .colab-df-convert:hover {\n",
              "      background-color: #434B5C;\n",
              "      box-shadow: 0px 1px 3px 1px rgba(0, 0, 0, 0.15);\n",
              "      filter: drop-shadow(0px 1px 2px rgba(0, 0, 0, 0.3));\n",
              "      fill: #FFFFFF;\n",
              "    }\n",
              "  </style>\n",
              "\n",
              "      <script>\n",
              "        const buttonEl =\n",
              "          document.querySelector('#df-5fe91988-b796-49ca-b6e1-4ba16a1ba0bc button.colab-df-convert');\n",
              "        buttonEl.style.display =\n",
              "          google.colab.kernel.accessAllowed ? 'block' : 'none';\n",
              "\n",
              "        async function convertToInteractive(key) {\n",
              "          const element = document.querySelector('#df-5fe91988-b796-49ca-b6e1-4ba16a1ba0bc');\n",
              "          const dataTable =\n",
              "            await google.colab.kernel.invokeFunction('convertToInteractive',\n",
              "                                                     [key], {});\n",
              "          if (!dataTable) return;\n",
              "\n",
              "          const docLinkHtml = 'Like what you see? Visit the ' +\n",
              "            '<a target=\"_blank\" href=https://colab.research.google.com/notebooks/data_table.ipynb>data table notebook</a>'\n",
              "            + ' to learn more about interactive tables.';\n",
              "          element.innerHTML = '';\n",
              "          dataTable['output_type'] = 'display_data';\n",
              "          await google.colab.output.renderOutput(dataTable, element);\n",
              "          const docLink = document.createElement('div');\n",
              "          docLink.innerHTML = docLinkHtml;\n",
              "          element.appendChild(docLink);\n",
              "        }\n",
              "      </script>\n",
              "    </div>\n",
              "  </div>\n",
              "  "
            ]
          },
          "metadata": {},
          "execution_count": 12
        }
      ],
      "source": [
        "def num_words(text):\n",
        "  return len(text.strip().split(' '))\n",
        "\n",
        "df['num_words'] = df['article_clean'].apply(num_words)\n",
        "df.head()"
      ]
    },
    {
      "cell_type": "code",
      "execution_count": null,
      "metadata": {
        "colab": {
          "base_uri": "https://localhost:8080/",
          "height": 269
        },
        "id": "SnojmV5l0ZRu",
        "outputId": "8dd4af65-a4fc-4136-eb90-cb43b59cd7bc"
      },
      "outputs": [
        {
          "data": {
            "text/html": [
              "\n",
              "  <div id=\"df-f327b27b-744e-49e4-96b5-896c7ea3e265\">\n",
              "    <div class=\"colab-df-container\">\n",
              "      <div>\n",
              "<style scoped>\n",
              "    .dataframe tbody tr th:only-of-type {\n",
              "        vertical-align: middle;\n",
              "    }\n",
              "\n",
              "    .dataframe tbody tr th {\n",
              "        vertical-align: top;\n",
              "    }\n",
              "\n",
              "    .dataframe thead th {\n",
              "        text-align: right;\n",
              "    }\n",
              "</style>\n",
              "<table border=\"1\" class=\"dataframe\">\n",
              "  <thead>\n",
              "    <tr style=\"text-align: right;\">\n",
              "      <th></th>\n",
              "      <th></th>\n",
              "      <th>num_words</th>\n",
              "    </tr>\n",
              "    <tr>\n",
              "      <th>category</th>\n",
              "      <th>category_eng</th>\n",
              "      <th></th>\n",
              "    </tr>\n",
              "  </thead>\n",
              "  <tbody>\n",
              "    <tr>\n",
              "      <th>ሀገር አቀፍ ዜና</th>\n",
              "      <th>Local News</th>\n",
              "      <td>249.127307</td>\n",
              "    </tr>\n",
              "    <tr>\n",
              "      <th>መዝናኛ</th>\n",
              "      <th>Entertainment</th>\n",
              "      <td>766.167722</td>\n",
              "    </tr>\n",
              "    <tr>\n",
              "      <th>ስፖርት</th>\n",
              "      <th>Sport</th>\n",
              "      <td>309.957500</td>\n",
              "    </tr>\n",
              "    <tr>\n",
              "      <th>ቢዝነስ</th>\n",
              "      <th>Business</th>\n",
              "      <td>379.029450</td>\n",
              "    </tr>\n",
              "    <tr>\n",
              "      <th>ዓለም አቀፍ ዜና</th>\n",
              "      <th>International News</th>\n",
              "      <td>153.704004</td>\n",
              "    </tr>\n",
              "    <tr>\n",
              "      <th>ፖለቲካ</th>\n",
              "      <th>Politics</th>\n",
              "      <td>320.040000</td>\n",
              "    </tr>\n",
              "  </tbody>\n",
              "</table>\n",
              "</div>\n",
              "      <button class=\"colab-df-convert\" onclick=\"convertToInteractive('df-f327b27b-744e-49e4-96b5-896c7ea3e265')\"\n",
              "              title=\"Convert this dataframe to an interactive table.\"\n",
              "              style=\"display:none;\">\n",
              "        \n",
              "  <svg xmlns=\"http://www.w3.org/2000/svg\" height=\"24px\"viewBox=\"0 0 24 24\"\n",
              "       width=\"24px\">\n",
              "    <path d=\"M0 0h24v24H0V0z\" fill=\"none\"/>\n",
              "    <path d=\"M18.56 5.44l.94 2.06.94-2.06 2.06-.94-2.06-.94-.94-2.06-.94 2.06-2.06.94zm-11 1L8.5 8.5l.94-2.06 2.06-.94-2.06-.94L8.5 2.5l-.94 2.06-2.06.94zm10 10l.94 2.06.94-2.06 2.06-.94-2.06-.94-.94-2.06-.94 2.06-2.06.94z\"/><path d=\"M17.41 7.96l-1.37-1.37c-.4-.4-.92-.59-1.43-.59-.52 0-1.04.2-1.43.59L10.3 9.45l-7.72 7.72c-.78.78-.78 2.05 0 2.83L4 21.41c.39.39.9.59 1.41.59.51 0 1.02-.2 1.41-.59l7.78-7.78 2.81-2.81c.8-.78.8-2.07 0-2.86zM5.41 20L4 18.59l7.72-7.72 1.47 1.35L5.41 20z\"/>\n",
              "  </svg>\n",
              "      </button>\n",
              "      \n",
              "  <style>\n",
              "    .colab-df-container {\n",
              "      display:flex;\n",
              "      flex-wrap:wrap;\n",
              "      gap: 12px;\n",
              "    }\n",
              "\n",
              "    .colab-df-convert {\n",
              "      background-color: #E8F0FE;\n",
              "      border: none;\n",
              "      border-radius: 50%;\n",
              "      cursor: pointer;\n",
              "      display: none;\n",
              "      fill: #1967D2;\n",
              "      height: 32px;\n",
              "      padding: 0 0 0 0;\n",
              "      width: 32px;\n",
              "    }\n",
              "\n",
              "    .colab-df-convert:hover {\n",
              "      background-color: #E2EBFA;\n",
              "      box-shadow: 0px 1px 2px rgba(60, 64, 67, 0.3), 0px 1px 3px 1px rgba(60, 64, 67, 0.15);\n",
              "      fill: #174EA6;\n",
              "    }\n",
              "\n",
              "    [theme=dark] .colab-df-convert {\n",
              "      background-color: #3B4455;\n",
              "      fill: #D2E3FC;\n",
              "    }\n",
              "\n",
              "    [theme=dark] .colab-df-convert:hover {\n",
              "      background-color: #434B5C;\n",
              "      box-shadow: 0px 1px 3px 1px rgba(0, 0, 0, 0.15);\n",
              "      filter: drop-shadow(0px 1px 2px rgba(0, 0, 0, 0.3));\n",
              "      fill: #FFFFFF;\n",
              "    }\n",
              "  </style>\n",
              "\n",
              "      <script>\n",
              "        const buttonEl =\n",
              "          document.querySelector('#df-f327b27b-744e-49e4-96b5-896c7ea3e265 button.colab-df-convert');\n",
              "        buttonEl.style.display =\n",
              "          google.colab.kernel.accessAllowed ? 'block' : 'none';\n",
              "\n",
              "        async function convertToInteractive(key) {\n",
              "          const element = document.querySelector('#df-f327b27b-744e-49e4-96b5-896c7ea3e265');\n",
              "          const dataTable =\n",
              "            await google.colab.kernel.invokeFunction('convertToInteractive',\n",
              "                                                     [key], {});\n",
              "          if (!dataTable) return;\n",
              "\n",
              "          const docLinkHtml = 'Like what you see? Visit the ' +\n",
              "            '<a target=\"_blank\" href=https://colab.research.google.com/notebooks/data_table.ipynb>data table notebook</a>'\n",
              "            + ' to learn more about interactive tables.';\n",
              "          element.innerHTML = '';\n",
              "          dataTable['output_type'] = 'display_data';\n",
              "          await google.colab.output.renderOutput(dataTable, element);\n",
              "          const docLink = document.createElement('div');\n",
              "          docLink.innerHTML = docLinkHtml;\n",
              "          element.appendChild(docLink);\n",
              "        }\n",
              "      </script>\n",
              "    </div>\n",
              "  </div>\n",
              "  "
            ],
            "text/plain": [
              "                                num_words\n",
              "category   category_eng                  \n",
              "ሀገር አቀፍ ዜና Local News          249.127307\n",
              "መዝናኛ       Entertainment       766.167722\n",
              "ስፖርት       Sport               309.957500\n",
              "ቢዝነስ       Business            379.029450\n",
              "ዓለም አቀፍ ዜና International News  153.704004\n",
              "ፖለቲካ       Politics            320.040000"
            ]
          },
          "execution_count": 138,
          "metadata": {},
          "output_type": "execute_result"
        }
      ],
      "source": [
        "df[['category', 'category_eng', 'num_words']].groupby(['category', 'category_eng']).mean()"
      ]
    },
    {
      "cell_type": "code",
      "execution_count": null,
      "metadata": {
        "colab": {
          "base_uri": "https://localhost:8080/",
          "height": 474
        },
        "id": "YExUrAUouvwn",
        "outputId": "8a3ccd0b-ed2c-4075-ae7f-c234dc2c0b83"
      },
      "outputs": [
        {
          "data": {
            "image/png": "[encoded data removed]",
            "text/plain": [
              "<Figure size 864x504 with 1 Axes>"
            ]
          },
          "metadata": {},
          "output_type": "display_data"
        }
      ],
      "source": [
        "fig = plt.figure(figsize=(12,7))\n",
        "ax = sns.histplot(data=df, x=\"num_words\")\n",
        "ax.set_title('Distribution of article length\\n');\n",
        "\n",
        "plt.show()"
      ]
    },
    {
      "cell_type": "code",
      "execution_count": null,
      "metadata": {
        "colab": {
          "base_uri": "https://localhost:8080/"
        },
        "id": "5yDzS7i3RXI9",
        "outputId": "97b7b511-ee3b-4c2b-ad7f-11d0047c852b"
      },
      "outputs": [
        {
          "data": {
            "text/plain": [
              "(35.0, 1374.3600000000006)"
            ]
          },
          "execution_count": 140,
          "metadata": {},
          "output_type": "execute_result"
        }
      ],
      "source": [
        "np.percentile(df['num_words'], 5), np.percentile(df['num_words'], 99)"
      ]
    },
    {
      "cell_type": "code",
      "execution_count": null,
      "metadata": {
        "colab": {
          "base_uri": "https://localhost:8080/",
          "height": 474
        },
        "id": "0la2xDm7v0jR",
        "outputId": "4a3a4dd5-fa62-4b90-d041-24f08a4cb9cc"
      },
      "outputs": [
        {
          "data": {
            "image/png": "[encoded data removed]",
            "text/plain": [
              "<Figure size 864x504 with 1 Axes>"
            ]
          },
          "metadata": {},
          "output_type": "display_data"
        }
      ],
      "source": [
        "df_clean = df[\n",
        "  (df['num_words']>=np.percentile(df['num_words'], 5))\n",
        "  & (df['num_words']<=np.percentile(df['num_words'], 99))\n",
        "]\n",
        "\n",
        "fig = plt.figure(figsize=(12,7))\n",
        "ax = sns.histplot(data=df_clean, x=\"num_words\")\n",
        "ax.set_title('Distribution of article length\\n');\n",
        "\n",
        "plt.show()"
      ]
    },
    {
      "cell_type": "code",
      "execution_count": null,
      "metadata": {
        "colab": {
          "base_uri": "https://localhost:8080/",
          "height": 269
        },
        "id": "ZDFhv7ueya4C",
        "outputId": "3acdd9ad-75c4-4ce6-c586-dc87ebe13985"
      },
      "outputs": [
        {
          "data": {
            "text/html": [
              "\n",
              "  <div id=\"df-d3172615-9dde-4d54-9f5b-ebc934176aeb\">\n",
              "    <div class=\"colab-df-container\">\n",
              "      <div>\n",
              "<style scoped>\n",
              "    .dataframe tbody tr th:only-of-type {\n",
              "        vertical-align: middle;\n",
              "    }\n",
              "\n",
              "    .dataframe tbody tr th {\n",
              "        vertical-align: top;\n",
              "    }\n",
              "\n",
              "    .dataframe thead th {\n",
              "        text-align: right;\n",
              "    }\n",
              "</style>\n",
              "<table border=\"1\" class=\"dataframe\">\n",
              "  <thead>\n",
              "    <tr style=\"text-align: right;\">\n",
              "      <th></th>\n",
              "      <th></th>\n",
              "      <th>article_clean</th>\n",
              "    </tr>\n",
              "    <tr>\n",
              "      <th>category</th>\n",
              "      <th>category_eng</th>\n",
              "      <th></th>\n",
              "    </tr>\n",
              "  </thead>\n",
              "  <tbody>\n",
              "    <tr>\n",
              "      <th>ሀገር አቀፍ ዜና</th>\n",
              "      <th>Local News</th>\n",
              "      <td>19333</td>\n",
              "    </tr>\n",
              "    <tr>\n",
              "      <th>መዝናኛ</th>\n",
              "      <th>Entertainment</th>\n",
              "      <td>577</td>\n",
              "    </tr>\n",
              "    <tr>\n",
              "      <th>ስፖርት</th>\n",
              "      <th>Sport</th>\n",
              "      <td>9482</td>\n",
              "    </tr>\n",
              "    <tr>\n",
              "      <th>ቢዝነስ</th>\n",
              "      <th>Business</th>\n",
              "      <td>3733</td>\n",
              "    </tr>\n",
              "    <tr>\n",
              "      <th>ዓለም አቀፍ ዜና</th>\n",
              "      <th>International News</th>\n",
              "      <td>5667</td>\n",
              "    </tr>\n",
              "    <tr>\n",
              "      <th>ፖለቲካ</th>\n",
              "      <th>Politics</th>\n",
              "      <td>9021</td>\n",
              "    </tr>\n",
              "  </tbody>\n",
              "</table>\n",
              "</div>\n",
              "      <button class=\"colab-df-convert\" onclick=\"convertToInteractive('df-d3172615-9dde-4d54-9f5b-ebc934176aeb')\"\n",
              "              title=\"Convert this dataframe to an interactive table.\"\n",
              "              style=\"display:none;\">\n",
              "        \n",
              "  <svg xmlns=\"http://www.w3.org/2000/svg\" height=\"24px\"viewBox=\"0 0 24 24\"\n",
              "       width=\"24px\">\n",
              "    <path d=\"M0 0h24v24H0V0z\" fill=\"none\"/>\n",
              "    <path d=\"M18.56 5.44l.94 2.06.94-2.06 2.06-.94-2.06-.94-.94-2.06-.94 2.06-2.06.94zm-11 1L8.5 8.5l.94-2.06 2.06-.94-2.06-.94L8.5 2.5l-.94 2.06-2.06.94zm10 10l.94 2.06.94-2.06 2.06-.94-2.06-.94-.94-2.06-.94 2.06-2.06.94z\"/><path d=\"M17.41 7.96l-1.37-1.37c-.4-.4-.92-.59-1.43-.59-.52 0-1.04.2-1.43.59L10.3 9.45l-7.72 7.72c-.78.78-.78 2.05 0 2.83L4 21.41c.39.39.9.59 1.41.59.51 0 1.02-.2 1.41-.59l7.78-7.78 2.81-2.81c.8-.78.8-2.07 0-2.86zM5.41 20L4 18.59l7.72-7.72 1.47 1.35L5.41 20z\"/>\n",
              "  </svg>\n",
              "      </button>\n",
              "      \n",
              "  <style>\n",
              "    .colab-df-container {\n",
              "      display:flex;\n",
              "      flex-wrap:wrap;\n",
              "      gap: 12px;\n",
              "    }\n",
              "\n",
              "    .colab-df-convert {\n",
              "      background-color: #E8F0FE;\n",
              "      border: none;\n",
              "      border-radius: 50%;\n",
              "      cursor: pointer;\n",
              "      display: none;\n",
              "      fill: #1967D2;\n",
              "      height: 32px;\n",
              "      padding: 0 0 0 0;\n",
              "      width: 32px;\n",
              "    }\n",
              "\n",
              "    .colab-df-convert:hover {\n",
              "      background-color: #E2EBFA;\n",
              "      box-shadow: 0px 1px 2px rgba(60, 64, 67, 0.3), 0px 1px 3px 1px rgba(60, 64, 67, 0.15);\n",
              "      fill: #174EA6;\n",
              "    }\n",
              "\n",
              "    [theme=dark] .colab-df-convert {\n",
              "      background-color: #3B4455;\n",
              "      fill: #D2E3FC;\n",
              "    }\n",
              "\n",
              "    [theme=dark] .colab-df-convert:hover {\n",
              "      background-color: #434B5C;\n",
              "      box-shadow: 0px 1px 3px 1px rgba(0, 0, 0, 0.15);\n",
              "      filter: drop-shadow(0px 1px 2px rgba(0, 0, 0, 0.3));\n",
              "      fill: #FFFFFF;\n",
              "    }\n",
              "  </style>\n",
              "\n",
              "      <script>\n",
              "        const buttonEl =\n",
              "          document.querySelector('#df-d3172615-9dde-4d54-9f5b-ebc934176aeb button.colab-df-convert');\n",
              "        buttonEl.style.display =\n",
              "          google.colab.kernel.accessAllowed ? 'block' : 'none';\n",
              "\n",
              "        async function convertToInteractive(key) {\n",
              "          const element = document.querySelector('#df-d3172615-9dde-4d54-9f5b-ebc934176aeb');\n",
              "          const dataTable =\n",
              "            await google.colab.kernel.invokeFunction('convertToInteractive',\n",
              "                                                     [key], {});\n",
              "          if (!dataTable) return;\n",
              "\n",
              "          const docLinkHtml = 'Like what you see? Visit the ' +\n",
              "            '<a target=\"_blank\" href=https://colab.research.google.com/notebooks/data_table.ipynb>data table notebook</a>'\n",
              "            + ' to learn more about interactive tables.';\n",
              "          element.innerHTML = '';\n",
              "          dataTable['output_type'] = 'display_data';\n",
              "          await google.colab.output.renderOutput(dataTable, element);\n",
              "          const docLink = document.createElement('div');\n",
              "          docLink.innerHTML = docLinkHtml;\n",
              "          element.appendChild(docLink);\n",
              "        }\n",
              "      </script>\n",
              "    </div>\n",
              "  </div>\n",
              "  "
            ],
            "text/plain": [
              "                               article_clean\n",
              "category   category_eng                     \n",
              "ሀገር አቀፍ ዜና Local News                  19333\n",
              "መዝናኛ       Entertainment                 577\n",
              "ስፖርት       Sport                        9482\n",
              "ቢዝነስ       Business                     3733\n",
              "ዓለም አቀፍ ዜና International News           5667\n",
              "ፖለቲካ       Politics                     9021"
            ]
          },
          "execution_count": 142,
          "metadata": {},
          "output_type": "execute_result"
        }
      ],
      "source": [
        "df_clean[['category', 'category_eng', 'article_clean']].groupby(['category', 'category_eng']).count()"
      ]
    },
    {
      "cell_type": "code",
      "execution_count": null,
      "metadata": {
        "id": "rQ8rXQl6M2ba"
      },
      "outputs": [],
      "source": [
        "df_clean = pd.concat([\n",
        "    #df_clean[df_clean['category_eng']=='Local News'].sample(7500), #category is too general\n",
        "    #df_clean[df_clean['category_eng']=='Entertainment'], # available data is too small\n",
        "    df_clean[df_clean['category_eng']=='Sport'].sample(7500),\n",
        "    df_clean[df_clean['category_eng']=='Business'],\n",
        "    df_clean[df_clean['category_eng']=='International News'],\n",
        "    df_clean[df_clean['category_eng']=='Politics'].sample(7500),\n",
        "])"
      ]
    },
    {
      "cell_type": "code",
      "execution_count": null,
      "metadata": {
        "colab": {
          "base_uri": "https://localhost:8080/",
          "height": 206
        },
        "id": "uAjsDjrhNi9f",
        "outputId": "386f37a9-fbbb-4e09-ff00-361b55e68e45"
      },
      "outputs": [
        {
          "data": {
            "text/html": [
              "\n",
              "  <div id=\"df-cef98d53-00fe-4f22-bc4e-0878deccfda1\">\n",
              "    <div class=\"colab-df-container\">\n",
              "      <div>\n",
              "<style scoped>\n",
              "    .dataframe tbody tr th:only-of-type {\n",
              "        vertical-align: middle;\n",
              "    }\n",
              "\n",
              "    .dataframe tbody tr th {\n",
              "        vertical-align: top;\n",
              "    }\n",
              "\n",
              "    .dataframe thead th {\n",
              "        text-align: right;\n",
              "    }\n",
              "</style>\n",
              "<table border=\"1\" class=\"dataframe\">\n",
              "  <thead>\n",
              "    <tr style=\"text-align: right;\">\n",
              "      <th></th>\n",
              "      <th></th>\n",
              "      <th>article_clean</th>\n",
              "    </tr>\n",
              "    <tr>\n",
              "      <th>category</th>\n",
              "      <th>category_eng</th>\n",
              "      <th></th>\n",
              "    </tr>\n",
              "  </thead>\n",
              "  <tbody>\n",
              "    <tr>\n",
              "      <th>ስፖርት</th>\n",
              "      <th>Sport</th>\n",
              "      <td>7500</td>\n",
              "    </tr>\n",
              "    <tr>\n",
              "      <th>ቢዝነስ</th>\n",
              "      <th>Business</th>\n",
              "      <td>3733</td>\n",
              "    </tr>\n",
              "    <tr>\n",
              "      <th>ዓለም አቀፍ ዜና</th>\n",
              "      <th>International News</th>\n",
              "      <td>5667</td>\n",
              "    </tr>\n",
              "    <tr>\n",
              "      <th>ፖለቲካ</th>\n",
              "      <th>Politics</th>\n",
              "      <td>7500</td>\n",
              "    </tr>\n",
              "  </tbody>\n",
              "</table>\n",
              "</div>\n",
              "      <button class=\"colab-df-convert\" onclick=\"convertToInteractive('df-cef98d53-00fe-4f22-bc4e-0878deccfda1')\"\n",
              "              title=\"Convert this dataframe to an interactive table.\"\n",
              "              style=\"display:none;\">\n",
              "        \n",
              "  <svg xmlns=\"http://www.w3.org/2000/svg\" height=\"24px\"viewBox=\"0 0 24 24\"\n",
              "       width=\"24px\">\n",
              "    <path d=\"M0 0h24v24H0V0z\" fill=\"none\"/>\n",
              "    <path d=\"M18.56 5.44l.94 2.06.94-2.06 2.06-.94-2.06-.94-.94-2.06-.94 2.06-2.06.94zm-11 1L8.5 8.5l.94-2.06 2.06-.94-2.06-.94L8.5 2.5l-.94 2.06-2.06.94zm10 10l.94 2.06.94-2.06 2.06-.94-2.06-.94-.94-2.06-.94 2.06-2.06.94z\"/><path d=\"M17.41 7.96l-1.37-1.37c-.4-.4-.92-.59-1.43-.59-.52 0-1.04.2-1.43.59L10.3 9.45l-7.72 7.72c-.78.78-.78 2.05 0 2.83L4 21.41c.39.39.9.59 1.41.59.51 0 1.02-.2 1.41-.59l7.78-7.78 2.81-2.81c.8-.78.8-2.07 0-2.86zM5.41 20L4 18.59l7.72-7.72 1.47 1.35L5.41 20z\"/>\n",
              "  </svg>\n",
              "      </button>\n",
              "      \n",
              "  <style>\n",
              "    .colab-df-container {\n",
              "      display:flex;\n",
              "      flex-wrap:wrap;\n",
              "      gap: 12px;\n",
              "    }\n",
              "\n",
              "    .colab-df-convert {\n",
              "      background-color: #E8F0FE;\n",
              "      border: none;\n",
              "      border-radius: 50%;\n",
              "      cursor: pointer;\n",
              "      display: none;\n",
              "      fill: #1967D2;\n",
              "      height: 32px;\n",
              "      padding: 0 0 0 0;\n",
              "      width: 32px;\n",
              "    }\n",
              "\n",
              "    .colab-df-convert:hover {\n",
              "      background-color: #E2EBFA;\n",
              "      box-shadow: 0px 1px 2px rgba(60, 64, 67, 0.3), 0px 1px 3px 1px rgba(60, 64, 67, 0.15);\n",
              "      fill: #174EA6;\n",
              "    }\n",
              "\n",
              "    [theme=dark] .colab-df-convert {\n",
              "      background-color: #3B4455;\n",
              "      fill: #D2E3FC;\n",
              "    }\n",
              "\n",
              "    [theme=dark] .colab-df-convert:hover {\n",
              "      background-color: #434B5C;\n",
              "      box-shadow: 0px 1px 3px 1px rgba(0, 0, 0, 0.15);\n",
              "      filter: drop-shadow(0px 1px 2px rgba(0, 0, 0, 0.3));\n",
              "      fill: #FFFFFF;\n",
              "    }\n",
              "  </style>\n",
              "\n",
              "      <script>\n",
              "        const buttonEl =\n",
              "          document.querySelector('#df-cef98d53-00fe-4f22-bc4e-0878deccfda1 button.colab-df-convert');\n",
              "        buttonEl.style.display =\n",
              "          google.colab.kernel.accessAllowed ? 'block' : 'none';\n",
              "\n",
              "        async function convertToInteractive(key) {\n",
              "          const element = document.querySelector('#df-cef98d53-00fe-4f22-bc4e-0878deccfda1');\n",
              "          const dataTable =\n",
              "            await google.colab.kernel.invokeFunction('convertToInteractive',\n",
              "                                                     [key], {});\n",
              "          if (!dataTable) return;\n",
              "\n",
              "          const docLinkHtml = 'Like what you see? Visit the ' +\n",
              "            '<a target=\"_blank\" href=https://colab.research.google.com/notebooks/data_table.ipynb>data table notebook</a>'\n",
              "            + ' to learn more about interactive tables.';\n",
              "          element.innerHTML = '';\n",
              "          dataTable['output_type'] = 'display_data';\n",
              "          await google.colab.output.renderOutput(dataTable, element);\n",
              "          const docLink = document.createElement('div');\n",
              "          docLink.innerHTML = docLinkHtml;\n",
              "          element.appendChild(docLink);\n",
              "        }\n",
              "      </script>\n",
              "    </div>\n",
              "  </div>\n",
              "  "
            ],
            "text/plain": [
              "                               article_clean\n",
              "category   category_eng                     \n",
              "ስፖርት       Sport                        7500\n",
              "ቢዝነስ       Business                     3733\n",
              "ዓለም አቀፍ ዜና International News           5667\n",
              "ፖለቲካ       Politics                     7500"
            ]
          },
          "execution_count": 144,
          "metadata": {},
          "output_type": "execute_result"
        }
      ],
      "source": [
        "df_clean[['category', 'category_eng', 'article_clean']].groupby(['category', 'category_eng']).count()"
      ]
    },
    {
      "cell_type": "markdown",
      "metadata": {
        "id": "ZxKscYPbCmPI"
      },
      "source": [
        "### 3. Encode the articles as the average of the embeddings of each word "
      ]
    },
    {
      "cell_type": "code",
      "execution_count": null,
      "metadata": {
        "colab": {
          "base_uri": "https://localhost:8080/"
        },
        "id": "5G_uCN0C4BGS",
        "outputId": "0cda489a-aa06-4686-b0ad-c83161ff3112"
      },
      "outputs": [
        {
          "name": "stdout",
          "output_type": "stream",
          "text": [
            "የኢትዮጵያ ቦክስ ፌዴሬሽን በየዓመቱ የሚያዘጋጀው የክለቦች ቻምፒዮና በአዲስ አበባ ከተማ በመካሄድ ላይ ይገኛል\n",
            "[ 0.12181923 -0.2369268   0.06719361 -0.15459154 -0.11699857  0.02840873\n",
            "  0.03196222 -0.02292156 -0.0221169   0.10546525 -0.34899363  0.3154314\n",
            " -0.03613639 -0.20502316  0.01394316 -0.01552815  0.09217551  0.01931732\n",
            " -0.10516625 -0.06044278 -0.29014584 -0.08205326  0.00508558 -0.1561927\n",
            "  0.11329582 -0.05494737  0.11992823  0.18808009 -0.00692916 -0.06733978\n",
            " -0.05372404 -0.16988528  0.18160968 -0.07170894 -0.06666053 -0.04571105\n",
            "  0.09964758 -0.04105355  0.30605691  0.02418506  0.18315843 -0.08760884\n",
            " -0.12923531 -0.07408227  0.18912043  0.09001384 -0.22244673 -0.0585757\n",
            "  0.06687078 -0.30875849  0.01213057  0.03911913  0.07043986 -0.03362914\n",
            "  0.07478352 -0.16961803 -0.14723829  0.15394587 -0.01036457  0.00788733\n",
            " -0.12271373  0.26012087 -0.14567071 -0.09878267 -0.06365511 -0.00786641\n",
            " -0.06635836  0.03383206  0.01663657  0.26445828  0.04822546 -0.05123054\n",
            "  0.06667036 -0.19906333 -0.32815956  0.08670493  0.01928532  0.16123245\n",
            " -0.34221196 -0.00859066 -0.06855903  0.12504765  0.08680593  0.19309692\n",
            " -0.09069234 -0.17875352  0.002492   -0.08306018  0.06889469  0.01728715\n",
            "  0.05732904  0.02532481  0.01097882  0.06199995  0.24915779  0.19716442\n",
            "  0.1651762  -0.04253055  0.13305539 -0.13376439  0.15472612  0.05746912\n",
            " -0.03339956 -0.09679234  0.22178332  0.22895898 -0.29015051  0.26944053\n",
            "  0.10083075  0.33130372  0.33839188  0.15782437 -0.10204858 -0.25220571\n",
            " -0.11471524  0.08055385 -0.38350451  0.15954153  0.08208776 -0.04156897\n",
            "  0.09624234 -0.02966698  0.02488798 -0.03159006  0.04306913 -0.16985244\n",
            "  0.02167973 -0.19173417  0.0619922   0.08418326 -0.17228511 -0.06652636\n",
            " -0.13780897  0.11281291 -0.22007957 -0.24224405 -0.05234362 -0.11276124\n",
            " -0.07878918  0.07809252 -0.16791636  0.3436123   0.06573495 -0.15099029\n",
            "  0.02920906  0.05629245  0.10564791 -0.03557022 -0.13359956  0.1341538\n",
            "  0.03221681  0.14722821  0.05046287  0.08089818  0.19865583 -0.04765196\n",
            "  0.16196487 -0.04356955  0.01692024 -0.13511755 -0.04142222 -0.13042931\n",
            "  0.04050938  0.2179004   0.01892132  0.02837431  0.12009848  0.01732149\n",
            "  0.07038977 -0.09203676  0.05117962  0.26449461  0.09399867 -0.22199298\n",
            " -0.03827088 -0.14042122 -0.1183384  -0.18566435  0.2242579   0.08661268\n",
            " -0.31328474 -0.18056218  0.0592722  -0.19962492 -0.23891938  0.27684935\n",
            "  0.06203086  0.08831859 -0.06585195 -0.01282132  0.18187627 -0.03052206\n",
            "  0.19922325  0.10359925 -0.04848571 -0.11194599  0.14785913 -0.07810318\n",
            "  0.15742812  0.15010421  0.13508039 -0.13060072 -0.13901522 -0.35877212\n",
            " -0.03608647 -0.06803694 -0.16415828 -0.24827779 -0.13009456 -0.02364056\n",
            " -0.17211002  0.04501405 -0.2145414   0.02033273  0.08467051  0.40900649\n",
            "  0.36966219  0.12156007  0.14015772  0.0200899   0.27349944  0.08126018\n",
            "  0.17165936  0.03026914 -0.23696605 -0.0836456   0.08278093 -0.20847458\n",
            " -0.06878953 -0.01937223  0.05787337 -0.10152508 -0.1365318  -0.02896989\n",
            "  0.15429137 -0.15888353 -0.06528678 -0.08134002 -0.1950305  -0.11684957\n",
            " -0.06656994  0.1569382  -0.26238111  0.00829974  0.15557395  0.07837418\n",
            "  0.00550441  0.02960981 -0.11169224  0.101708   -0.05226571  0.01187966\n",
            "  0.19419934  0.03050139 -0.25321071  0.01008857  0.07437894 -0.1000135\n",
            " -0.08010943 -0.25421137  0.01159774  0.08429893 -0.10432641 -0.25284662\n",
            " -0.0814151  -0.07250136  0.33205789  0.05789295  0.00721891 -0.00184075\n",
            " -0.06845169  0.0756191   0.27093511  0.17980727 -0.08129485 -0.05575979\n",
            " -0.07541344  0.1545762  -0.16480861 -0.1598677   0.08073643 -0.097561\n",
            " -0.03508964 -0.0390713  -0.09901608  0.26643511  0.02696481 -0.17865718\n",
            "  0.27122011 -0.03349722  0.16545653 -0.24074463 -0.08109168  0.19201601\n",
            "  0.11228416  0.05656887  0.01422007  0.19447634  0.08102918 -0.20871583]\n"
          ]
        }
      ],
      "source": [
        "def encode_text(text, embeddings, embedding_dim):\n",
        "  vec = np.zeros((embedding_dim,))\n",
        "  tokens = word_tokenize(text)\n",
        "  num_vocab_words = 0.00001\n",
        "  for token in tokens:\n",
        "    if token in embeddings:\n",
        "      vec = vec + embeddings[token]\n",
        "      num_vocab_words += 1\n",
        "  vec = vec/num_vocab_words\n",
        "  return vec\n",
        "\n",
        "s = 'የኢትዮጵያ ቦክስ ፌዴሬሽን በየዓመቱ የሚያዘጋጀው የክለቦች ቻምፒዮና በአዲስ አበባ ከተማ በመካሄድ ላይ ይገኛል'\n",
        "print(s)\n",
        "print(encode_text(s, embeddings, 300))"
      ]
    },
    {
      "cell_type": "code",
      "execution_count": null,
      "metadata": {
        "colab": {
          "base_uri": "https://localhost:8080/"
        },
        "id": "4uW27Dx64Igm",
        "outputId": "89bf1934-3c64-4de3-fec6-2152ffca18c0"
      },
      "outputs": [
        {
          "name": "stdout",
          "output_type": "stream",
          "text": [
            "['Business', 'International News', 'Politics', 'Sport']\n"
          ]
        },
        {
          "data": {
            "text/plain": [
              "((24400, 300), (24400,))"
            ]
          },
          "execution_count": 146,
          "metadata": {},
          "output_type": "execute_result"
        }
      ],
      "source": [
        "categories = sorted(set(df_clean['category_eng']))\n",
        "print(categories)\n",
        "\n",
        "X = np.array([encode_text(text, embeddings, 300) for text in df_clean['article']])\n",
        "y = np.array([categories.index(c) for c in df_clean['category_eng']])\n",
        "\n",
        "X.shape, y.shape"
      ]
    },
    {
      "cell_type": "markdown",
      "metadata": {
        "id": "KP3yF4AxEmgT"
      },
      "source": [
        "### 4. Train Test Split"
      ]
    },
    {
      "cell_type": "code",
      "execution_count": null,
      "metadata": {
        "id": "SZjOsLBTDYa1"
      },
      "outputs": [],
      "source": [
        "from sklearn.model_selection import train_test_split\n",
        "\n",
        "X_train, X_test, y_train, y_test = train_test_split(X, y, test_size=0.2, random_state=42)"
      ]
    },
    {
      "cell_type": "markdown",
      "metadata": {
        "id": "Zi9-s_7QTpXK"
      },
      "source": [
        "## Train Models"
      ]
    },
    {
      "cell_type": "code",
      "execution_count": null,
      "metadata": {
        "id": "Iwsm4FJIPrAQ"
      },
      "outputs": [],
      "source": [
        "from keras.models import Sequential,Model\n",
        "from keras.layers import Dense, Dropout"
      ]
    },
    {
      "cell_type": "code",
      "execution_count": null,
      "metadata": {
        "colab": {
          "base_uri": "https://localhost:8080/"
        },
        "id": "r3w4TfGsTo2j",
        "outputId": "a3332270-4f1d-4c44-fac6-0cb69e29f055"
      },
      "outputs": [
        {
          "name": "stdout",
          "output_type": "stream",
          "text": [
            "Model: \"sequential_4\"\n",
            "_________________________________________________________________\n",
            " Layer (type)                Output Shape              Param #   \n",
            "=================================================================\n",
            " dense_12 (Dense)            (None, 150)               45150     \n",
            "                                                                 \n",
            " dropout_8 (Dropout)         (None, 150)               0         \n",
            "                                                                 \n",
            " dense_13 (Dense)            (None, 50)                7550      \n",
            "                                                                 \n",
            " dropout_9 (Dropout)         (None, 50)                0         \n",
            "                                                                 \n",
            " dense_14 (Dense)            (None, 4)                 204       \n",
            "                                                                 \n",
            "=================================================================\n",
            "Total params: 52,904\n",
            "Trainable params: 52,904\n",
            "Non-trainable params: 0\n",
            "_________________________________________________________________\n"
          ]
        }
      ],
      "source": [
        "n = len(categories)\n",
        "\n",
        "model = Sequential()\n",
        "\n",
        "model.add(Dense(150, input_shape=(300,), activation='relu'))\n",
        "model.add(Dropout(0.8)),\n",
        "model.add(Dense(50, activation='relu'))\n",
        "model.add(Dropout(0.8)),\n",
        "model.add(Dense(n, activation='softmax'))\n",
        "\n",
        "model.summary()"
      ]
    },
    {
      "cell_type": "code",
      "execution_count": null,
      "metadata": {
        "colab": {
          "base_uri": "https://localhost:8080/"
        },
        "id": "zq1X4RVYTgn0",
        "outputId": "383d4560-b2c2-4a57-9b80-f701d86f1971"
      },
      "outputs": [
        {
          "name": "stdout",
          "output_type": "stream",
          "text": [
            "Epoch 1/25\n",
            "138/138 [==============================] - 1s 7ms/step - loss: 1.1380 - accuracy: 0.4837 - val_loss: 0.7451 - val_accuracy: 0.6824\n",
            "Epoch 2/25\n",
            "138/138 [==============================] - 1s 6ms/step - loss: 0.8114 - accuracy: 0.6380 - val_loss: 0.5480 - val_accuracy: 0.8299\n",
            "Epoch 3/25\n",
            "138/138 [==============================] - 1s 5ms/step - loss: 0.6938 - accuracy: 0.7020 - val_loss: 0.4593 - val_accuracy: 0.8550\n",
            "Epoch 4/25\n",
            "138/138 [==============================] - 1s 6ms/step - loss: 0.6304 - accuracy: 0.7403 - val_loss: 0.4179 - val_accuracy: 0.8550\n",
            "Epoch 5/25\n",
            "138/138 [==============================] - 1s 6ms/step - loss: 0.6004 - accuracy: 0.7602 - val_loss: 0.3896 - val_accuracy: 0.8607\n",
            "Epoch 6/25\n",
            "138/138 [==============================] - 1s 6ms/step - loss: 0.5761 - accuracy: 0.7695 - val_loss: 0.3807 - val_accuracy: 0.8642\n",
            "Epoch 7/25\n",
            "138/138 [==============================] - 1s 6ms/step - loss: 0.5521 - accuracy: 0.7849 - val_loss: 0.3675 - val_accuracy: 0.8683\n",
            "Epoch 8/25\n",
            "138/138 [==============================] - 1s 6ms/step - loss: 0.5383 - accuracy: 0.7926 - val_loss: 0.3579 - val_accuracy: 0.8642\n",
            "Epoch 9/25\n",
            "138/138 [==============================] - 1s 6ms/step - loss: 0.5281 - accuracy: 0.7992 - val_loss: 0.3507 - val_accuracy: 0.8714\n",
            "Epoch 10/25\n",
            "138/138 [==============================] - 1s 5ms/step - loss: 0.5123 - accuracy: 0.8027 - val_loss: 0.3492 - val_accuracy: 0.8735\n",
            "Epoch 11/25\n",
            "138/138 [==============================] - 1s 5ms/step - loss: 0.5075 - accuracy: 0.8052 - val_loss: 0.3499 - val_accuracy: 0.8689\n",
            "Epoch 12/25\n",
            "138/138 [==============================] - 1s 6ms/step - loss: 0.4948 - accuracy: 0.8079 - val_loss: 0.3445 - val_accuracy: 0.8704\n",
            "Epoch 13/25\n",
            "138/138 [==============================] - 1s 6ms/step - loss: 0.4871 - accuracy: 0.8138 - val_loss: 0.3318 - val_accuracy: 0.8776\n",
            "Epoch 14/25\n",
            "138/138 [==============================] - 1s 6ms/step - loss: 0.4839 - accuracy: 0.8149 - val_loss: 0.3315 - val_accuracy: 0.8714\n",
            "Epoch 15/25\n",
            "138/138 [==============================] - 1s 6ms/step - loss: 0.4853 - accuracy: 0.8140 - val_loss: 0.3279 - val_accuracy: 0.8740\n",
            "Epoch 16/25\n",
            "138/138 [==============================] - 1s 6ms/step - loss: 0.4775 - accuracy: 0.8215 - val_loss: 0.3302 - val_accuracy: 0.8827\n",
            "Epoch 17/25\n",
            "138/138 [==============================] - 1s 6ms/step - loss: 0.4679 - accuracy: 0.8229 - val_loss: 0.3224 - val_accuracy: 0.8765\n",
            "Epoch 18/25\n",
            "138/138 [==============================] - 1s 6ms/step - loss: 0.4614 - accuracy: 0.8242 - val_loss: 0.3270 - val_accuracy: 0.8735\n",
            "Epoch 19/25\n",
            "138/138 [==============================] - 1s 6ms/step - loss: 0.4626 - accuracy: 0.8254 - val_loss: 0.3212 - val_accuracy: 0.8801\n",
            "Epoch 20/25\n",
            "138/138 [==============================] - 1s 5ms/step - loss: 0.4572 - accuracy: 0.8256 - val_loss: 0.3174 - val_accuracy: 0.8806\n",
            "Epoch 21/25\n",
            "138/138 [==============================] - 1s 5ms/step - loss: 0.4591 - accuracy: 0.8287 - val_loss: 0.3231 - val_accuracy: 0.8806\n",
            "Epoch 22/25\n",
            "138/138 [==============================] - 1s 6ms/step - loss: 0.4474 - accuracy: 0.8292 - val_loss: 0.3178 - val_accuracy: 0.8801\n",
            "Epoch 23/25\n",
            "138/138 [==============================] - 1s 5ms/step - loss: 0.4564 - accuracy: 0.8282 - val_loss: 0.3147 - val_accuracy: 0.8776\n",
            "Epoch 24/25\n",
            "138/138 [==============================] - 1s 6ms/step - loss: 0.4499 - accuracy: 0.8304 - val_loss: 0.3131 - val_accuracy: 0.8811\n",
            "Epoch 25/25\n",
            "138/138 [==============================] - 1s 6ms/step - loss: 0.4487 - accuracy: 0.8291 - val_loss: 0.3146 - val_accuracy: 0.8781\n"
          ]
        },
        {
          "data": {
            "text/plain": [
              "<keras.callbacks.History at 0x7f1937405b80>"
            ]
          },
          "execution_count": 150,
          "metadata": {},
          "output_type": "execute_result"
        }
      ],
      "source": [
        "# configure the training\n",
        "model.compile(loss='sparse_categorical_crossentropy', metrics=['accuracy'], optimizer='adam')\n",
        "\n",
        "# train the model. just run a few epochs for this test run. you can adjust later.\n",
        "model.fit(X_train, y_train, batch_size=128, validation_split=0.1, epochs=25, shuffle=True)"
      ]
    },
    {
      "cell_type": "code",
      "execution_count": 156,
      "metadata": {
        "id": "BBQ0_vHzW2fL",
        "colab": {
          "base_uri": "https://localhost:8080/"
        },
        "outputId": "a8877732-64ac-4912-9ac7-a42f8ec1ae36"
      },
      "outputs": [
        {
          "output_type": "stream",
          "name": "stdout",
          "text": [
            "153/153 [==============================] - 1s 4ms/step - loss: 0.3091 - accuracy: 0.8811\n"
          ]
        },
        {
          "output_type": "execute_result",
          "data": {
            "text/plain": [
              "[0.3091166019439697, 0.881147563457489]"
            ]
          },
          "metadata": {},
          "execution_count": 156
        }
      ],
      "source": [
        "model.evaluate(X_test, y_test)"
      ]
    },
    {
      "cell_type": "code",
      "execution_count": 157,
      "metadata": {
        "id": "L99M2xjlE9Ye",
        "colab": {
          "base_uri": "https://localhost:8080/",
          "height": 807
        },
        "outputId": "e89b4967-8197-4a14-cc2b-829db6e43db3"
      },
      "outputs": [
        {
          "output_type": "stream",
          "name": "stdout",
          "text": [
            "153/153 [==============================] - 1s 4ms/step\n"
          ]
        },
        {
          "output_type": "display_data",
          "data": {
            "text/plain": [
              "<Figure size 864x864 with 2 Axes>"
            ],
            "image/png": "[encoded data removed]"
          },
          "metadata": {
            "needs_background": "light"
          }
        },
        {
          "output_type": "stream",
          "name": "stdout",
          "text": [
            "['Business', 'International News', 'Politics', 'Sport']\n"
          ]
        }
      ],
      "source": [
        "from sklearn.metrics import confusion_matrix\n",
        "\n",
        "y_pred = np.argmax(model.predict(X_test), axis=1)\n",
        "cf_matrix = confusion_matrix(y_test, y_pred)\n",
        "\n",
        "plt.figure(figsize=(12,12))\n",
        "\n",
        "ax = sns.heatmap(cf_matrix/np.sum(cf_matrix, axis=1, keepdims=True), annot=True, cmap='Blues')\n",
        "\n",
        "ax.set_title('Confusion Matrix\\n\\n');\n",
        "ax.set_xlabel('\\nPredicted Values')\n",
        "ax.set_ylabel('Actual Values ');\n",
        "\n",
        "## Ticket labels - List must be in alphabetical order\n",
        "ax.xaxis.set_ticklabels(categories)\n",
        "ax.yaxis.set_ticklabels(categories)\n",
        "\n",
        "## Display the visualization of the Confusion Matrix.\n",
        "plt.show()\n",
        "print(categories)"
      ]
    },
    {
      "cell_type": "code",
      "execution_count": 159,
      "metadata": {
        "id": "naHGSSqnFFHJ",
        "colab": {
          "base_uri": "https://localhost:8080/"
        },
        "outputId": "f7756bb7-108b-4f2a-b137-f216ddf8eb5d"
      },
      "outputs": [
        {
          "output_type": "stream",
          "name": "stdout",
          "text": [
            "Accuracy : 0.8811475409836066\n",
            "                    precision    recall  f1-score   support\n",
            "\n",
            "          Business       0.78      0.84      0.81       759\n",
            "International News       0.88      0.86      0.87      1148\n",
            "          Politics       0.83      0.80      0.81      1466\n",
            "             Sport       0.99      1.00      0.99      1507\n",
            "\n",
            "          accuracy                           0.88      4880\n",
            "         macro avg       0.87      0.87      0.87      4880\n",
            "      weighted avg       0.88      0.88      0.88      4880\n",
            "\n"
          ]
        }
      ],
      "source": [
        "from sklearn.metrics import accuracy_score, classification_report\n",
        "print(\"Accuracy :\", accuracy_score(y_test, y_pred))\n",
        "print(classification_report(y_test, y_pred, target_names=categories))"
      ]
    },
    {
      "cell_type": "markdown",
      "metadata": {
        "id": "E1plejJmYRa_"
      },
      "source": [
        "### Test Cases from DW Amharic"
      ]
    },
    {
      "cell_type": "code",
      "execution_count": 164,
      "metadata": {
        "colab": {
          "base_uri": "https://localhost:8080/"
        },
        "id": "BXP9q3ShVgRb",
        "outputId": "90cfa104-7101-4a4f-a417-e6ebcfcaf8c4"
      },
      "outputs": [
        {
          "output_type": "stream",
          "name": "stdout",
          "text": [
            "1/1 [==============================] - 0s 41ms/step\n",
            "Predicted Labels : ['Sport', 'Business', 'International News', 'Politics']\n"
          ]
        }
      ],
      "source": [
        "# https://www.dw.com/am/%E1%8B%A8%E1%8C%A5%E1%88%AD-15-%E1%89%80%E1%8A%95-2015-%E1%8B%93%E1%88%9D-%E1%8B%A8%E1%88%B5%E1%8D%96%E1%88%AD%E1%89%B5-%E1%8B%98%E1%8C%88%E1%89%A3/a-64491792\n",
        "sport = '''በእንግሊዝ ፕሬሚየር ሊግ፦ እጅግ ውብ ፉክክር በታየበት የትናንቱ ግጥሚያ አርሰናል ማንቸስተር ዩናይትድን ድል በማድረግ በእርግጥም \n",
        "ዘንድሮ ዋንጫውን ለማንሳት የቆረጠ መሆኑን ዐሳይቷል። አንድ ተስተካካይ ጨዋታ እየቀረው ተከታዩ ማንቸስተር ሲቲን በአምስት ነጥቦች በልጧል። \n",
        "ኧርሊንግ ኦላንድ በዘንድሮ የጨዋታ ክፍለ ጊዜ ለማንቸስተር ሲቲ አራተኛ ሔትትሪኩን ሠርቷል። በርካታ ተጨዋቾቻቸው የተጎዱባቸው ቸልሲ እና ሊቨርፑል\n",
        " ድል ርቋቸው የደረጃ ሰንጠረዡ አማካይ ላይ እየተንገታገቱ ነው። በጀርመን ቡንደስሊጋ ቬርደር ብሬመን በኮሎኝ አይቀጡ ቅጣት ተቀጥቷል። \n",
        " የኢትዮጵያ ብሔራዊ ቡድን ከቻን ፉክክር ተሰናብቷል። በዐለም የእጅ ኳስ ፉክክር የጀርመን ቡድን ወደ ሩብ ፍጻሜ ለማለፍ ዛሬ ማታ ወሳኝ \n",
        " ግጥሚያውን ያደርጋል።'''\n",
        "\n",
        "# https://www.dw.com/am/%E1%8B%A8%E1%8A%A2%E1%89%B5%E1%8B%AE%E1%8C%B5%E1%8B%AB-%E1%89%A5%E1%88%94%E1%88%AB%E1%8B%8A-%E1%89%A3%E1%8A%95%E1%8A%AD-%E1%8A%A0%E1%8B%B2%E1%88%B1-%E1%8C%88%E1%8B%A5-%E1%88%9B%E1%88%9E-%E1%88%9D%E1%8A%85%E1%88%A8%E1%89%B1-%E1%88%9D%E1%8A%95-%E1%8B%AD%E1%8C%A0%E1%89%A5%E1%89%83%E1%89%B8%E1%8B%8B%E1%88%8D/a-64514980\n",
        "business = '''የ44 ዓመቱ ጎልማሳ ማሞ ምኅረቱ የኢትዮጵያን ብሔራዊ ባንክ ገዥ ቢሮ ሲረከቡ በዶክተር ይናገር ደሴ የአመራር ዘመን ከ30 በመቶ \n",
        "የተሻገረው የዋጋ ንረት መፍትሔ የሚሻ አንገብጋቢ ጉዳይ ሆኖ ይጠብቃቸዋል። የኢትዮጵያ ብሔራዊ ባንክ የዋጋ ግሽበቱን ወደ \"ነጠላ አሐዝ የማውረድ\" ዕቅድ \n",
        "ቢኖረውም ተሰናባቹ ገዥ ይናገር ደሴ ግን እስከ ሰኔ ባሉት ወራት ይሳካል የሚል እምነት የላቸውም።\n",
        "የገንዘብ አስተዳደር ባለሙያው ዶክተር አብዱልመናን መሐመድ \"የዋጋ ግሽበት እና ብር ከውጭ አገር ገንዘቦች ጋር\" ሚዛኑን የጠበቀ የምንዛሪ ተመን እንዲኖረው \n",
        "ማድረግ  የብሔራዊው ባንክ አንገብጋቢ ጉዳዮች እንደሆኑ ይናገራሉ።\n",
        "\n",
        "አቶ ማሞ በገዥነት የተሾሙለት የኢትዮጵያ ብሔራዊ ባንክ \"ገንዘብ የማተምና የማሠራጨት፣ የሀገሪቱን የውጭ ምንዛሪ ማስተዳደር፣ የገንዘብ ፖሊሲ የማውጣትና \n",
        "የመተግበር፣ ለገንዘብ ድርጅቶች ፈቃድ መስጠትና መቆጣጠር\" ላይ እንዲያተኩር ሆኖ የተቋቋመው በ1955 ነበር። የባንኩን ማቋቋሚያ አዋጆች በማሻሻል ደርግ እና\n",
        "ኢሕአዴግ በተለያዩ ጊዜያት ይከተሏቸው ከነበሩ የፖለቲካ ፍልስፍናዎች የተጣጣመ ሚና እንዲኖረው ሊያደርጉ ሞክረዋል። የብሔራዊ ባንኩም ሆኑ የኢትዮጵያ ኤኮኖሚ \n",
        "ያሉባቸው ችግሮች ለረዥም ዓመታት ሲንከባለሉ የቆዩ እና በተለያዩ ምክንያቶች እየተወሳሰቡ የሔዱ ናቸው።'''\n",
        "\n",
        "# https://www.dw.com/am/%E1%8C%80%E1%88%AD%E1%88%98%E1%8A%95-%E1%88%8A%E1%8B%AE%E1%8D%93%E1%88%AD%E1%8B%B5-2-%E1%89%B3%E1%8A%95%E1%8A%AE%E1%89%BD%E1%8A%95-%E1%88%88%E1%8B%A9%E1%8A%AD%E1%88%AC%E1%8A%95-%E1%88%88%E1%88%98%E1%88%B5%E1%8C%A0%E1%89%B5-%E1%8B%AB%E1%88%88%E1%88%98%E1%8B%89-%E1%88%B5%E1%89%A5%E1%88%B0%E1%89%A3/a-64473352\n",
        "international = '''የሰሜን አትላንቲክ ቃል ኪዳን የኔቶ አባል ሀገራት የመከላከያ ሚንስትሮች እና ሌሎች ደጋፊ ሃገራት ለዩክሬን ጦር ሰራዊት ተጨማሪ ወታደራዊ \n",
        "ቁሳቁስ ለመስጠት በጀርመን በሚገኘው ራምሽታይን የዩናይትድ ስቴትስ የአየር ኃይል ሰፈር ለመወያየት ስብሰባ ተቀምጠዋል።  የስብሰባው ዋነኛ ርዕሰ ጉዳይ ሊዮፓርድ 2 \n",
        "የተሰኘዉን የጀርመንን ታንኮች በሩሲያ ጥቃት ወደተሰነዘረባት አገር ለዩክሪይን ለመስጠት ነው። ወደ 50 አገሮች በሚካፈሉበት  በዚህ ስብሰባ ላይ የዩናይትድ ስቴትስ \n",
        "መከላከያ ሚኒስትር  ሎይድ ኦስቲን፣ አዲስ የተሾሙት  የጀርመን አቻቸዉ  ቦሪስ ፒስቶሪየስ እና የዩክሬን መከላከያ ሚኒስትር ኦሌክሲ ሬስኒኮፍ ይገኙበታል።\n",
        "\n",
        "ይህ በእንዲህ እንዳለ፤ ጀርመን ሊዮፓርድ ሁለት የተሰኘዉን ታንኳን እንድትሰጥ ከዩክሬይን የሚገደረዉ ከፍተኛ ግፊት ከጊዜ ወደጊዜ እየጨመረ ነዉ።ሊዮፓርድ 2 የተባለዉ \n",
        "ታንክ ለዉግያ በጣም የሚመረጥ እና በብዛትም የሚገኝ መሆኑ ነዉ የተመለከተዉ። ጀርመን ይህን ዘመናዊ ታንኳን ለዩክሬይን ለመስጠት ማንገራገርዋ ታንኩን ከዚህ ቀደም \n",
        "ከጀርመን የገዙ ለዩክሬይን አሳልፈዉ እንዳይሰጡ የሚያግድ ነዉ ተብሏል። ታዋቂዉን ይህን ታንክ ለዩክሬይን እንዲሰጥ የሚደረገዉ ግፊት እና የጀርመን ማንገራገር ዛሬ \n",
        "ራምሽታይን ጀርመን የአሜሪካ ጦር ሰፍር ላይ እየተካሄደ በሚገኘዉ የመከላከያ ሚኒስትሮች እና ከፍተኛ የጦር መኮንኖች ስብሰባ ላይ ትልልቅ ርዕስ ሆንዋል። የዩናይትድ \n",
        "ስቴትስ መከላከያ ሚኒስትር ልዮድ አዉስቲን የሚመሩት በዚህ ስብሰባ ላይ ዩክሬይንን የሚደግፎ ተካፋዮች የተገኙበት  ሲሆን የዩናይትድ ስቴትሱ መከላከያ ሚኒስትር ሎይድ \n",
        "አዉስቲን እንደተናገሩት ምዕራባዉያኑ ተባባሪዎች ዩክሬንን ለመደገፍ ያቅማቸዉን ሁሉ ማድረግ አለባቸዉ ብለዋል።'''\n",
        "\n",
        "# https://www.dw.com/am/%E1%8B%A8%E1%8A%A2%E1%89%B5%E1%8B%AE%E1%8C%B5%E1%8B%AB-%E1%88%85%E1%8C%88-%E1%88%98%E1%8A%95%E1%8C%8D%E1%88%B5%E1%89%B5-%E1%88%98%E1%88%BB%E1%88%BB%E1%88%8D-%E1%88%8B%E1%8B%AD-%E1%88%9D%E1%8A%AD%E1%8A%AD%E1%88%AD-%E1%88%88%E1%88%9B%E1%8B%B5%E1%88%A8%E1%8C%8D-%E1%8B%A8%E1%88%9A%E1%8B%AB%E1%88%B5%E1%89%BD%E1%88%8D-%E1%88%98%E1%8B%B5%E1%88%A8%E1%8A%AD-%E1%88%9B%E1%8B%98%E1%8C%8B%E1%8C%80%E1%89%B1%E1%8A%95/a-64545067\n",
        "politics = '''የኢትዮጵያ ህገ መንግስት መሻሻል ላይ ምክክር ለማድረግ የሚያስችል መድረክ ማዘጋጀቱን የአሜሪካ ኢትዮጵያ የህዝብ ጉዳዮች ቋሚ ኮሚቴ-ኤፓክ አስታወቀ።\n",
        "የኤፓክ ሊቀመንበር፣አቶ መስፍን ተገኑ በተለይ ለዶይቸ ቨለ እንደገለፁት፣የውይይት መድረኩ በውጭ የሚኖሩ ኢትዮጵያውያንና ትውልደ ኢትዮጵያዊያን፣ህገ መንግሥቱ እንዴት ይሻሻል \n",
        "በሚለው ዐሳብ ላይ ድምጽ እንዲኖራቸው ያስችላል።\n",
        "\n",
        "አቶ መስፍን እንደሚሉት፣ የሚካሄደው ውይይት መድረክ፣በውጭ የሚኖሩ ኢትዮጵያውያንና ትውልድ ኢትዮጵያውያን በኢትዮጵያ ሊካሄድ በታቀደው ብሄራዊ ምክክር የመካፈል ዕድል \n",
        "እንዲያገኙ በሚል የተዘጋጀ ነው። \"የዲያስፖራው ሚና ምድነው? ኢትዮጵያ አሜሪካውያን እንዲሁም፣በዓለም ላይ ያለው ጠቅላላው ኢትዮጵያዊ ሕዝብ ምንድነው ማበርከት ያለበት \n",
        "የሚለውን እና ያንንስ እንዴት ነዉ የሚያደርገዉ? የሚለው ነገር ካሰብንበት በኋላ፣ገንቢ በሆነ መንገድ ለምክክር ኮሚሽኑ የሚረዳ ስራ መስራት ይቻላል በሚል፣ያንንም በዚህ አጋጣሚ \n",
        "ዲያስፖራው በዓለም ላይ ያለውን ሐሳብ ያካተተ ጠቀም ያለ ሥራ ሰርቶ፣ ለምክክር ኮሚሽኑ በመላክ  ለሚያደርጉት ሥራ አስተዋጽኦ ይሰጣል በሚል እምነት የተጀመረ ነው።\"'''\n",
        "\n",
        "test = np.array([encode_text(clean_text(text), embeddings, 300) for text in [sport, business, international, politics]])\n",
        "print(\"Predicted Labels :\", [categories[i] for i in np.argmax(model.predict(test), axis=1)])"
      ]
    },
    {
      "cell_type": "code",
      "execution_count": null,
      "metadata": {
        "id": "mVK7Vaz-Sr5E"
      },
      "outputs": [],
      "source": []
    }
  ],
  "metadata": {
    "colab": {
      "provenance": []
    },
    "kernelspec": {
      "display_name": "Python 3",
      "name": "python3"
    },
    "language_info": {
      "name": "python"
    }
  },
  "nbformat": 4,
  "nbformat_minor": 0
}